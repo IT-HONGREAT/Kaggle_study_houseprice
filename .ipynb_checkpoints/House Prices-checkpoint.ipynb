{
 "cells": [
  {
   "cell_type": "code",
   "execution_count": 1,
   "id": "06a8fac8-7b54-48d9-9723-738ff4edfb99",
   "metadata": {},
   "outputs": [
    {
     "name": "stdout",
     "output_type": "stream",
     "text": [
      "[name: \"/device:CPU:0\"\n",
      "device_type: \"CPU\"\n",
      "memory_limit: 268435456\n",
      "locality {\n",
      "}\n",
      "incarnation: 2919513552179130018\n",
      ", name: \"/device:GPU:0\"\n",
      "device_type: \"GPU\"\n",
      "memory_limit: 2249929524\n",
      "locality {\n",
      "  bus_id: 1\n",
      "  links {\n",
      "  }\n",
      "}\n",
      "incarnation: 8945867410993744397\n",
      "physical_device_desc: \"device: 0, name: NVIDIA GeForce GTX 1650 Ti, pci bus id: 0000:01:00.0, compute capability: 7.5\"\n",
      "]\n"
     ]
    }
   ],
   "source": [
    "import tensorflow\n",
    "from tensorflow.python.client import device_lib\n",
    "print(device_lib.list_local_devices())"
   ]
  },
  {
   "cell_type": "code",
   "execution_count": 2,
   "id": "7eb351a8-7595-496d-85f1-87f92d3b54aa",
   "metadata": {},
   "outputs": [
    {
     "name": "stdout",
     "output_type": "stream",
     "text": [
      "Requirement already satisfied: seaborn in c:\\users\\hongr\\anaconda3\\envs\\test\\lib\\site-packages (0.11.2)\n",
      "Requirement already satisfied: numpy>=1.15 in c:\\users\\hongr\\anaconda3\\envs\\test\\lib\\site-packages (from seaborn) (1.20.3)\n",
      "Requirement already satisfied: pandas>=0.23 in c:\\users\\hongr\\anaconda3\\envs\\test\\lib\\site-packages (from seaborn) (1.3.2)\n",
      "Requirement already satisfied: matplotlib>=2.2 in c:\\users\\hongr\\anaconda3\\envs\\test\\lib\\site-packages (from seaborn) (3.4.3)\n",
      "Requirement already satisfied: scipy>=1.0 in c:\\users\\hongr\\anaconda3\\envs\\test\\lib\\site-packages (from seaborn) (1.6.2)\n",
      "Requirement already satisfied: pillow>=6.2.0 in c:\\users\\hongr\\anaconda3\\envs\\test\\lib\\site-packages (from matplotlib>=2.2->seaborn) (8.3.1)\n",
      "Requirement already satisfied: pyparsing>=2.2.1 in c:\\users\\hongr\\anaconda3\\envs\\test\\lib\\site-packages (from matplotlib>=2.2->seaborn) (2.4.7)\n",
      "Requirement already satisfied: cycler>=0.10 in c:\\users\\hongr\\anaconda3\\envs\\test\\lib\\site-packages (from matplotlib>=2.2->seaborn) (0.10.0)\n",
      "Requirement already satisfied: python-dateutil>=2.7 in c:\\users\\hongr\\anaconda3\\envs\\test\\lib\\site-packages (from matplotlib>=2.2->seaborn) (2.8.2)\n",
      "Requirement already satisfied: kiwisolver>=1.0.1 in c:\\users\\hongr\\anaconda3\\envs\\test\\lib\\site-packages (from matplotlib>=2.2->seaborn) (1.3.2)\n",
      "Requirement already satisfied: six in c:\\users\\hongr\\anaconda3\\envs\\test\\lib\\site-packages (from cycler>=0.10->matplotlib>=2.2->seaborn) (1.16.0)\n",
      "Requirement already satisfied: pytz>=2017.3 in c:\\users\\hongr\\anaconda3\\envs\\test\\lib\\site-packages (from pandas>=0.23->seaborn) (2021.1)\n",
      "Requirement already satisfied: pandas in c:\\users\\hongr\\anaconda3\\envs\\test\\lib\\site-packages (1.3.2)\n",
      "Requirement already satisfied: numpy>=1.17.3 in c:\\users\\hongr\\anaconda3\\envs\\test\\lib\\site-packages (from pandas) (1.20.3)\n",
      "Requirement already satisfied: python-dateutil>=2.7.3 in c:\\users\\hongr\\anaconda3\\envs\\test\\lib\\site-packages (from pandas) (2.8.2)\n",
      "Requirement already satisfied: pytz>=2017.3 in c:\\users\\hongr\\anaconda3\\envs\\test\\lib\\site-packages (from pandas) (2021.1)\n",
      "Requirement already satisfied: six>=1.5 in c:\\users\\hongr\\anaconda3\\envs\\test\\lib\\site-packages (from python-dateutil>=2.7.3->pandas) (1.16.0)\n"
     ]
    }
   ],
   "source": [
    "!pip install seaborn\n",
    "!pip install pandas"
   ]
  },
  {
   "cell_type": "code",
   "execution_count": 3,
   "id": "ac6fe653",
   "metadata": {},
   "outputs": [
    {
     "name": "stdout",
     "output_type": "stream",
     "text": [
      "Package                Version\n",
      "---------------------- -------------------\n",
      "absl-py                0.13.0\n",
      "aiohttp                3.7.4\n",
      "anyio                  2.2.0\n",
      "argon2-cffi            20.1.0\n",
      "astor                  0.8.1\n",
      "astunparse             1.6.3\n",
      "async-generator        1.10\n",
      "async-timeout          3.0.1\n",
      "attrs                  21.2.0\n",
      "Babel                  2.9.1\n",
      "backcall               0.2.0\n",
      "bleach                 4.0.0\n",
      "blinker                1.4\n",
      "branca                 0.4.2\n",
      "brotlipy               0.7.0\n",
      "cached-property        1.5.2\n",
      "cachetools             4.2.2\n",
      "certifi                2021.5.30\n",
      "cffi                   1.14.6\n",
      "chardet                3.0.4\n",
      "click                  8.0.1\n",
      "colorama               0.4.4\n",
      "coverage               5.5\n",
      "cryptography           3.4.7\n",
      "cycler                 0.10.0\n",
      "Cython                 0.29.24\n",
      "decorator              5.0.9\n",
      "defusedxml             0.7.1\n",
      "entrypoints            0.3\n",
      "flatbuffers            20210226132247\n",
      "folium                 0.12.1\n",
      "gast                   0.4.0\n",
      "google-auth            1.33.0\n",
      "google-auth-oauthlib   0.4.1\n",
      "google-pasta           0.2.0\n",
      "grpcio                 1.36.1\n",
      "h5py                   3.2.1\n",
      "idna                   2.10\n",
      "importlib-metadata     3.10.0\n",
      "ipykernel              5.3.4\n",
      "ipython                7.26.0\n",
      "ipython-genutils       0.2.0\n",
      "ipywidgets             7.6.3\n",
      "jedi                   0.18.0\n",
      "Jinja2                 3.0.1\n",
      "joblib                 1.0.1\n",
      "json5                  0.9.6\n",
      "jsonschema             3.2.0\n",
      "jupyter-client         6.1.12\n",
      "jupyter-core           4.7.1\n",
      "jupyter-server         1.4.1\n",
      "jupyterlab             3.1.7\n",
      "jupyterlab-pygments    0.1.2\n",
      "jupyterlab-server      2.7.1\n",
      "jupyterlab-widgets     1.0.0\n",
      "Keras-Preprocessing    1.1.2\n",
      "kiwisolver             1.3.2\n",
      "Markdown               3.3.4\n",
      "MarkupSafe             2.0.1\n",
      "matplotlib             3.4.3\n",
      "matplotlib-inline      0.1.2\n",
      "mistune                0.8.4\n",
      "mkl-fft                1.3.0\n",
      "mkl-random             1.2.2\n",
      "mkl-service            2.4.0\n",
      "multidict              5.1.0\n",
      "nbclassic              0.2.6\n",
      "nbclient               0.5.3\n",
      "nbconvert              6.1.0\n",
      "nbformat               5.1.3\n",
      "nest-asyncio           1.5.1\n",
      "notebook               6.4.3\n",
      "numpy                  1.20.3\n",
      "oauthlib               3.1.1\n",
      "opencv-python          4.5.3.56\n",
      "opt-einsum             3.3.0\n",
      "packaging              21.0\n",
      "pandas                 1.3.2\n",
      "pandocfilters          1.4.3\n",
      "parso                  0.8.2\n",
      "pickleshare            0.7.5\n",
      "Pillow                 8.3.1\n",
      "pip                    21.2.4\n",
      "prometheus-client      0.11.0\n",
      "prompt-toolkit         3.0.17\n",
      "protobuf               3.14.0\n",
      "pyasn1                 0.4.8\n",
      "pyasn1-modules         0.2.8\n",
      "pycparser              2.20\n",
      "Pygments               2.10.0\n",
      "PyJWT                  2.1.0\n",
      "pyOpenSSL              20.0.1\n",
      "pyparsing              2.4.7\n",
      "pyreadline             2.1\n",
      "pyrsistent             0.18.0\n",
      "PySocks                1.7.1\n",
      "python-dateutil        2.8.2\n",
      "pytz                   2021.1\n",
      "pywin32                228\n",
      "pywinpty               0.5.7\n",
      "pyzmq                  22.2.1\n",
      "requests               2.25.1\n",
      "requests-oauthlib      1.3.0\n",
      "rsa                    4.7.2\n",
      "scikit-learn           0.24.2\n",
      "scipy                  1.6.2\n",
      "seaborn                0.11.2\n",
      "Send2Trash             1.5.0\n",
      "setuptools             52.0.0.post20210125\n",
      "six                    1.16.0\n",
      "sklearn                0.0\n",
      "sniffio                1.2.0\n",
      "tensorboard            2.5.0\n",
      "tensorboard-plugin-wit 1.6.0\n",
      "tensorflow             2.5.0\n",
      "tensorflow-estimator   2.5.0\n",
      "termcolor              1.1.0\n",
      "terminado              0.9.4\n",
      "testpath               0.5.0\n",
      "threadpoolctl          2.2.0\n",
      "tornado                6.1\n",
      "traitlets              5.0.5\n",
      "typing-extensions      3.10.0.0\n",
      "urllib3                1.26.6\n",
      "wcwidth                0.2.5\n",
      "webencodings           0.5.1\n",
      "Werkzeug               1.0.1\n",
      "wheel                  0.35.1\n",
      "widgetsnbextension     3.5.1\n",
      "win-inet-pton          1.1.0\n",
      "wincertstore           0.2\n",
      "wrapt                  1.12.1\n",
      "xgboost                1.4.2\n",
      "yarl                   1.6.3\n",
      "zipp                   3.5.0\n"
     ]
    }
   ],
   "source": [
    "!pip list\n",
    "\n"
   ]
  },
  {
   "cell_type": "markdown",
   "id": "19e687c2",
   "metadata": {},
   "source": [
    "### 자동완성타이핑기능이 안되어 개선"
   ]
  },
  {
   "cell_type": "code",
   "execution_count": 4,
   "id": "19b6bbd9",
   "metadata": {},
   "outputs": [],
   "source": [
    "# !pip uninstall jedi"
   ]
  },
  {
   "cell_type": "code",
   "execution_count": 5,
   "id": "2c3f5ad8",
   "metadata": {},
   "outputs": [],
   "source": [
    "%config Completer.use_jedi = False"
   ]
  },
  {
   "cell_type": "code",
   "execution_count": 6,
   "id": "7c27a8ea",
   "metadata": {},
   "outputs": [
    {
     "name": "stdout",
     "output_type": "stream",
     "text": [
      "Package                Version\n",
      "---------------------- -------------------\n",
      "absl-py                0.13.0\n",
      "aiohttp                3.7.4\n",
      "anyio                  2.2.0\n",
      "argon2-cffi            20.1.0\n",
      "astor                  0.8.1\n",
      "astunparse             1.6.3\n",
      "async-generator        1.10\n",
      "async-timeout          3.0.1\n",
      "attrs                  21.2.0\n",
      "Babel                  2.9.1\n",
      "backcall               0.2.0\n",
      "bleach                 4.0.0\n",
      "blinker                1.4\n",
      "branca                 0.4.2\n",
      "brotlipy               0.7.0\n",
      "cached-property        1.5.2\n",
      "cachetools             4.2.2\n",
      "certifi                2021.5.30\n",
      "cffi                   1.14.6\n",
      "chardet                3.0.4\n",
      "click                  8.0.1\n",
      "colorama               0.4.4\n",
      "coverage               5.5\n",
      "cryptography           3.4.7\n",
      "cycler                 0.10.0\n",
      "Cython                 0.29.24\n",
      "decorator              5.0.9\n",
      "defusedxml             0.7.1\n",
      "entrypoints            0.3\n",
      "flatbuffers            20210226132247\n",
      "folium                 0.12.1\n",
      "gast                   0.4.0\n",
      "google-auth            1.33.0\n",
      "google-auth-oauthlib   0.4.1\n",
      "google-pasta           0.2.0\n",
      "grpcio                 1.36.1\n",
      "h5py                   3.2.1\n",
      "idna                   2.10\n",
      "importlib-metadata     3.10.0\n",
      "ipykernel              5.3.4\n",
      "ipython                7.26.0\n",
      "ipython-genutils       0.2.0\n",
      "ipywidgets             7.6.3\n",
      "jedi                   0.18.0\n",
      "Jinja2                 3.0.1\n",
      "joblib                 1.0.1\n",
      "json5                  0.9.6\n",
      "jsonschema             3.2.0\n",
      "jupyter-client         6.1.12\n",
      "jupyter-core           4.7.1\n",
      "jupyter-server         1.4.1\n",
      "jupyterlab             3.1.7\n",
      "jupyterlab-pygments    0.1.2\n",
      "jupyterlab-server      2.7.1\n",
      "jupyterlab-widgets     1.0.0\n",
      "Keras-Preprocessing    1.1.2\n",
      "kiwisolver             1.3.2\n",
      "Markdown               3.3.4\n",
      "MarkupSafe             2.0.1\n",
      "matplotlib             3.4.3\n",
      "matplotlib-inline      0.1.2\n",
      "mistune                0.8.4\n",
      "mkl-fft                1.3.0\n",
      "mkl-random             1.2.2\n",
      "mkl-service            2.4.0\n",
      "multidict              5.1.0\n",
      "nbclassic              0.2.6\n",
      "nbclient               0.5.3\n",
      "nbconvert              6.1.0\n",
      "nbformat               5.1.3\n",
      "nest-asyncio           1.5.1\n",
      "notebook               6.4.3\n",
      "numpy                  1.20.3\n",
      "oauthlib               3.1.1\n",
      "opencv-python          4.5.3.56\n",
      "opt-einsum             3.3.0\n",
      "packaging              21.0\n",
      "pandas                 1.3.2\n",
      "pandocfilters          1.4.3\n",
      "parso                  0.8.2\n",
      "pickleshare            0.7.5\n",
      "Pillow                 8.3.1\n",
      "pip                    21.2.4\n",
      "prometheus-client      0.11.0\n",
      "prompt-toolkit         3.0.17\n",
      "protobuf               3.14.0\n",
      "pyasn1                 0.4.8\n",
      "pyasn1-modules         0.2.8\n",
      "pycparser              2.20\n",
      "Pygments               2.10.0\n",
      "PyJWT                  2.1.0\n",
      "pyOpenSSL              20.0.1\n",
      "pyparsing              2.4.7\n",
      "pyreadline             2.1\n",
      "pyrsistent             0.18.0\n",
      "PySocks                1.7.1\n",
      "python-dateutil        2.8.2\n",
      "pytz                   2021.1\n",
      "pywin32                228\n",
      "pywinpty               0.5.7\n",
      "pyzmq                  22.2.1\n",
      "requests               2.25.1\n",
      "requests-oauthlib      1.3.0\n",
      "rsa                    4.7.2\n",
      "scikit-learn           0.24.2\n",
      "scipy                  1.6.2\n",
      "seaborn                0.11.2\n",
      "Send2Trash             1.5.0\n",
      "setuptools             52.0.0.post20210125\n",
      "six                    1.16.0\n",
      "sklearn                0.0\n",
      "sniffio                1.2.0\n",
      "tensorboard            2.5.0\n",
      "tensorboard-plugin-wit 1.6.0\n",
      "tensorflow             2.5.0\n",
      "tensorflow-estimator   2.5.0\n",
      "termcolor              1.1.0\n",
      "terminado              0.9.4\n",
      "testpath               0.5.0\n",
      "threadpoolctl          2.2.0\n",
      "tornado                6.1\n",
      "traitlets              5.0.5\n",
      "typing-extensions      3.10.0.0\n",
      "urllib3                1.26.6\n",
      "wcwidth                0.2.5\n",
      "webencodings           0.5.1\n",
      "Werkzeug               1.0.1\n",
      "wheel                  0.35.1\n",
      "widgetsnbextension     3.5.1\n",
      "win-inet-pton          1.1.0\n",
      "wincertstore           0.2\n",
      "wrapt                  1.12.1\n",
      "xgboost                1.4.2\n",
      "yarl                   1.6.3\n",
      "zipp                   3.5.0\n"
     ]
    }
   ],
   "source": [
    "!pip list"
   ]
  },
  {
   "cell_type": "code",
   "execution_count": 7,
   "id": "afd2bf43-43b7-49e3-a516-082c1c1d7672",
   "metadata": {},
   "outputs": [
    {
     "data": {
      "text/plain": [
       "'C:\\\\Users\\\\hongr\\\\OneDrive\\\\바탕 화면\\\\Kaggle_House Prices'"
      ]
     },
     "execution_count": 7,
     "metadata": {},
     "output_type": "execute_result"
    }
   ],
   "source": [
    "%pwd"
   ]
  },
  {
   "cell_type": "code",
   "execution_count": 8,
   "id": "8660706c-91b1-4dd1-abd9-a3bf55ee21b5",
   "metadata": {},
   "outputs": [],
   "source": [
    "import warnings\n",
    "warnings.filterwarnings('ignore')\n",
    "import pandas as pd\n",
    "import numpy as np\n",
    "import seaborn as sns\n",
    "import matplotlib.pyplot as plt\n",
    "%matplotlib inline\n",
    "\n",
    "df = pd.read_csv('train.csv')\n",
    "test = pd.read_csv('test.csv')\n",
    "sample = pd.read_csv('sample_submission.csv')"
   ]
  },
  {
   "cell_type": "markdown",
   "id": "da3ad43b",
   "metadata": {},
   "source": [
    "## 시각화 한글폰트 깨짐 방지"
   ]
  },
  {
   "cell_type": "code",
   "execution_count": 9,
   "id": "a01dfd95",
   "metadata": {},
   "outputs": [],
   "source": [
    "import matplotlib\n",
    "import matplotlib.font_manager as fm\n",
    "font_name = fm.FontProperties(fname = 'C:/Windows/Fonts/malgun.ttf').get_name()\n",
    "matplotlib.rc('font', family = font_name)\n",
    "matplotlib.rcParams['axes.unicode_minus'] = False"
   ]
  },
  {
   "cell_type": "code",
   "execution_count": 10,
   "id": "2eead19b-bbd3-481c-9a46-28bd7de40b8c",
   "metadata": {},
   "outputs": [
    {
     "data": {
      "text/html": [
       "<div>\n",
       "<style scoped>\n",
       "    .dataframe tbody tr th:only-of-type {\n",
       "        vertical-align: middle;\n",
       "    }\n",
       "\n",
       "    .dataframe tbody tr th {\n",
       "        vertical-align: top;\n",
       "    }\n",
       "\n",
       "    .dataframe thead th {\n",
       "        text-align: right;\n",
       "    }\n",
       "</style>\n",
       "<table border=\"1\" class=\"dataframe\">\n",
       "  <thead>\n",
       "    <tr style=\"text-align: right;\">\n",
       "      <th></th>\n",
       "      <th>Id</th>\n",
       "      <th>SalePrice</th>\n",
       "    </tr>\n",
       "  </thead>\n",
       "  <tbody>\n",
       "    <tr>\n",
       "      <th>0</th>\n",
       "      <td>1461</td>\n",
       "      <td>169277.052498</td>\n",
       "    </tr>\n",
       "    <tr>\n",
       "      <th>1</th>\n",
       "      <td>1462</td>\n",
       "      <td>187758.393989</td>\n",
       "    </tr>\n",
       "    <tr>\n",
       "      <th>2</th>\n",
       "      <td>1463</td>\n",
       "      <td>183583.683570</td>\n",
       "    </tr>\n",
       "    <tr>\n",
       "      <th>3</th>\n",
       "      <td>1464</td>\n",
       "      <td>179317.477511</td>\n",
       "    </tr>\n",
       "    <tr>\n",
       "      <th>4</th>\n",
       "      <td>1465</td>\n",
       "      <td>150730.079977</td>\n",
       "    </tr>\n",
       "    <tr>\n",
       "      <th>...</th>\n",
       "      <td>...</td>\n",
       "      <td>...</td>\n",
       "    </tr>\n",
       "    <tr>\n",
       "      <th>1454</th>\n",
       "      <td>2915</td>\n",
       "      <td>167081.220949</td>\n",
       "    </tr>\n",
       "    <tr>\n",
       "      <th>1455</th>\n",
       "      <td>2916</td>\n",
       "      <td>164788.778231</td>\n",
       "    </tr>\n",
       "    <tr>\n",
       "      <th>1456</th>\n",
       "      <td>2917</td>\n",
       "      <td>219222.423400</td>\n",
       "    </tr>\n",
       "    <tr>\n",
       "      <th>1457</th>\n",
       "      <td>2918</td>\n",
       "      <td>184924.279659</td>\n",
       "    </tr>\n",
       "    <tr>\n",
       "      <th>1458</th>\n",
       "      <td>2919</td>\n",
       "      <td>187741.866657</td>\n",
       "    </tr>\n",
       "  </tbody>\n",
       "</table>\n",
       "<p>1459 rows × 2 columns</p>\n",
       "</div>"
      ],
      "text/plain": [
       "        Id      SalePrice\n",
       "0     1461  169277.052498\n",
       "1     1462  187758.393989\n",
       "2     1463  183583.683570\n",
       "3     1464  179317.477511\n",
       "4     1465  150730.079977\n",
       "...    ...            ...\n",
       "1454  2915  167081.220949\n",
       "1455  2916  164788.778231\n",
       "1456  2917  219222.423400\n",
       "1457  2918  184924.279659\n",
       "1458  2919  187741.866657\n",
       "\n",
       "[1459 rows x 2 columns]"
      ]
     },
     "execution_count": 10,
     "metadata": {},
     "output_type": "execute_result"
    }
   ],
   "source": [
    "sample"
   ]
  },
  {
   "cell_type": "code",
   "execution_count": 11,
   "id": "a7548b56-3917-4286-b39a-fef348f3d0ce",
   "metadata": {},
   "outputs": [
    {
     "data": {
      "text/html": [
       "<div>\n",
       "<style scoped>\n",
       "    .dataframe tbody tr th:only-of-type {\n",
       "        vertical-align: middle;\n",
       "    }\n",
       "\n",
       "    .dataframe tbody tr th {\n",
       "        vertical-align: top;\n",
       "    }\n",
       "\n",
       "    .dataframe thead th {\n",
       "        text-align: right;\n",
       "    }\n",
       "</style>\n",
       "<table border=\"1\" class=\"dataframe\">\n",
       "  <thead>\n",
       "    <tr style=\"text-align: right;\">\n",
       "      <th></th>\n",
       "      <th>Id</th>\n",
       "      <th>MSSubClass</th>\n",
       "      <th>MSZoning</th>\n",
       "      <th>LotFrontage</th>\n",
       "      <th>LotArea</th>\n",
       "      <th>Street</th>\n",
       "      <th>Alley</th>\n",
       "      <th>LotShape</th>\n",
       "      <th>LandContour</th>\n",
       "      <th>Utilities</th>\n",
       "      <th>...</th>\n",
       "      <th>PoolArea</th>\n",
       "      <th>PoolQC</th>\n",
       "      <th>Fence</th>\n",
       "      <th>MiscFeature</th>\n",
       "      <th>MiscVal</th>\n",
       "      <th>MoSold</th>\n",
       "      <th>YrSold</th>\n",
       "      <th>SaleType</th>\n",
       "      <th>SaleCondition</th>\n",
       "      <th>SalePrice</th>\n",
       "    </tr>\n",
       "  </thead>\n",
       "  <tbody>\n",
       "    <tr>\n",
       "      <th>0</th>\n",
       "      <td>1</td>\n",
       "      <td>60</td>\n",
       "      <td>RL</td>\n",
       "      <td>65.0</td>\n",
       "      <td>8450</td>\n",
       "      <td>Pave</td>\n",
       "      <td>NaN</td>\n",
       "      <td>Reg</td>\n",
       "      <td>Lvl</td>\n",
       "      <td>AllPub</td>\n",
       "      <td>...</td>\n",
       "      <td>0</td>\n",
       "      <td>NaN</td>\n",
       "      <td>NaN</td>\n",
       "      <td>NaN</td>\n",
       "      <td>0</td>\n",
       "      <td>2</td>\n",
       "      <td>2008</td>\n",
       "      <td>WD</td>\n",
       "      <td>Normal</td>\n",
       "      <td>208500</td>\n",
       "    </tr>\n",
       "    <tr>\n",
       "      <th>1</th>\n",
       "      <td>2</td>\n",
       "      <td>20</td>\n",
       "      <td>RL</td>\n",
       "      <td>80.0</td>\n",
       "      <td>9600</td>\n",
       "      <td>Pave</td>\n",
       "      <td>NaN</td>\n",
       "      <td>Reg</td>\n",
       "      <td>Lvl</td>\n",
       "      <td>AllPub</td>\n",
       "      <td>...</td>\n",
       "      <td>0</td>\n",
       "      <td>NaN</td>\n",
       "      <td>NaN</td>\n",
       "      <td>NaN</td>\n",
       "      <td>0</td>\n",
       "      <td>5</td>\n",
       "      <td>2007</td>\n",
       "      <td>WD</td>\n",
       "      <td>Normal</td>\n",
       "      <td>181500</td>\n",
       "    </tr>\n",
       "    <tr>\n",
       "      <th>2</th>\n",
       "      <td>3</td>\n",
       "      <td>60</td>\n",
       "      <td>RL</td>\n",
       "      <td>68.0</td>\n",
       "      <td>11250</td>\n",
       "      <td>Pave</td>\n",
       "      <td>NaN</td>\n",
       "      <td>IR1</td>\n",
       "      <td>Lvl</td>\n",
       "      <td>AllPub</td>\n",
       "      <td>...</td>\n",
       "      <td>0</td>\n",
       "      <td>NaN</td>\n",
       "      <td>NaN</td>\n",
       "      <td>NaN</td>\n",
       "      <td>0</td>\n",
       "      <td>9</td>\n",
       "      <td>2008</td>\n",
       "      <td>WD</td>\n",
       "      <td>Normal</td>\n",
       "      <td>223500</td>\n",
       "    </tr>\n",
       "    <tr>\n",
       "      <th>3</th>\n",
       "      <td>4</td>\n",
       "      <td>70</td>\n",
       "      <td>RL</td>\n",
       "      <td>60.0</td>\n",
       "      <td>9550</td>\n",
       "      <td>Pave</td>\n",
       "      <td>NaN</td>\n",
       "      <td>IR1</td>\n",
       "      <td>Lvl</td>\n",
       "      <td>AllPub</td>\n",
       "      <td>...</td>\n",
       "      <td>0</td>\n",
       "      <td>NaN</td>\n",
       "      <td>NaN</td>\n",
       "      <td>NaN</td>\n",
       "      <td>0</td>\n",
       "      <td>2</td>\n",
       "      <td>2006</td>\n",
       "      <td>WD</td>\n",
       "      <td>Abnorml</td>\n",
       "      <td>140000</td>\n",
       "    </tr>\n",
       "    <tr>\n",
       "      <th>4</th>\n",
       "      <td>5</td>\n",
       "      <td>60</td>\n",
       "      <td>RL</td>\n",
       "      <td>84.0</td>\n",
       "      <td>14260</td>\n",
       "      <td>Pave</td>\n",
       "      <td>NaN</td>\n",
       "      <td>IR1</td>\n",
       "      <td>Lvl</td>\n",
       "      <td>AllPub</td>\n",
       "      <td>...</td>\n",
       "      <td>0</td>\n",
       "      <td>NaN</td>\n",
       "      <td>NaN</td>\n",
       "      <td>NaN</td>\n",
       "      <td>0</td>\n",
       "      <td>12</td>\n",
       "      <td>2008</td>\n",
       "      <td>WD</td>\n",
       "      <td>Normal</td>\n",
       "      <td>250000</td>\n",
       "    </tr>\n",
       "    <tr>\n",
       "      <th>...</th>\n",
       "      <td>...</td>\n",
       "      <td>...</td>\n",
       "      <td>...</td>\n",
       "      <td>...</td>\n",
       "      <td>...</td>\n",
       "      <td>...</td>\n",
       "      <td>...</td>\n",
       "      <td>...</td>\n",
       "      <td>...</td>\n",
       "      <td>...</td>\n",
       "      <td>...</td>\n",
       "      <td>...</td>\n",
       "      <td>...</td>\n",
       "      <td>...</td>\n",
       "      <td>...</td>\n",
       "      <td>...</td>\n",
       "      <td>...</td>\n",
       "      <td>...</td>\n",
       "      <td>...</td>\n",
       "      <td>...</td>\n",
       "      <td>...</td>\n",
       "    </tr>\n",
       "    <tr>\n",
       "      <th>1455</th>\n",
       "      <td>1456</td>\n",
       "      <td>60</td>\n",
       "      <td>RL</td>\n",
       "      <td>62.0</td>\n",
       "      <td>7917</td>\n",
       "      <td>Pave</td>\n",
       "      <td>NaN</td>\n",
       "      <td>Reg</td>\n",
       "      <td>Lvl</td>\n",
       "      <td>AllPub</td>\n",
       "      <td>...</td>\n",
       "      <td>0</td>\n",
       "      <td>NaN</td>\n",
       "      <td>NaN</td>\n",
       "      <td>NaN</td>\n",
       "      <td>0</td>\n",
       "      <td>8</td>\n",
       "      <td>2007</td>\n",
       "      <td>WD</td>\n",
       "      <td>Normal</td>\n",
       "      <td>175000</td>\n",
       "    </tr>\n",
       "    <tr>\n",
       "      <th>1456</th>\n",
       "      <td>1457</td>\n",
       "      <td>20</td>\n",
       "      <td>RL</td>\n",
       "      <td>85.0</td>\n",
       "      <td>13175</td>\n",
       "      <td>Pave</td>\n",
       "      <td>NaN</td>\n",
       "      <td>Reg</td>\n",
       "      <td>Lvl</td>\n",
       "      <td>AllPub</td>\n",
       "      <td>...</td>\n",
       "      <td>0</td>\n",
       "      <td>NaN</td>\n",
       "      <td>MnPrv</td>\n",
       "      <td>NaN</td>\n",
       "      <td>0</td>\n",
       "      <td>2</td>\n",
       "      <td>2010</td>\n",
       "      <td>WD</td>\n",
       "      <td>Normal</td>\n",
       "      <td>210000</td>\n",
       "    </tr>\n",
       "    <tr>\n",
       "      <th>1457</th>\n",
       "      <td>1458</td>\n",
       "      <td>70</td>\n",
       "      <td>RL</td>\n",
       "      <td>66.0</td>\n",
       "      <td>9042</td>\n",
       "      <td>Pave</td>\n",
       "      <td>NaN</td>\n",
       "      <td>Reg</td>\n",
       "      <td>Lvl</td>\n",
       "      <td>AllPub</td>\n",
       "      <td>...</td>\n",
       "      <td>0</td>\n",
       "      <td>NaN</td>\n",
       "      <td>GdPrv</td>\n",
       "      <td>Shed</td>\n",
       "      <td>2500</td>\n",
       "      <td>5</td>\n",
       "      <td>2010</td>\n",
       "      <td>WD</td>\n",
       "      <td>Normal</td>\n",
       "      <td>266500</td>\n",
       "    </tr>\n",
       "    <tr>\n",
       "      <th>1458</th>\n",
       "      <td>1459</td>\n",
       "      <td>20</td>\n",
       "      <td>RL</td>\n",
       "      <td>68.0</td>\n",
       "      <td>9717</td>\n",
       "      <td>Pave</td>\n",
       "      <td>NaN</td>\n",
       "      <td>Reg</td>\n",
       "      <td>Lvl</td>\n",
       "      <td>AllPub</td>\n",
       "      <td>...</td>\n",
       "      <td>0</td>\n",
       "      <td>NaN</td>\n",
       "      <td>NaN</td>\n",
       "      <td>NaN</td>\n",
       "      <td>0</td>\n",
       "      <td>4</td>\n",
       "      <td>2010</td>\n",
       "      <td>WD</td>\n",
       "      <td>Normal</td>\n",
       "      <td>142125</td>\n",
       "    </tr>\n",
       "    <tr>\n",
       "      <th>1459</th>\n",
       "      <td>1460</td>\n",
       "      <td>20</td>\n",
       "      <td>RL</td>\n",
       "      <td>75.0</td>\n",
       "      <td>9937</td>\n",
       "      <td>Pave</td>\n",
       "      <td>NaN</td>\n",
       "      <td>Reg</td>\n",
       "      <td>Lvl</td>\n",
       "      <td>AllPub</td>\n",
       "      <td>...</td>\n",
       "      <td>0</td>\n",
       "      <td>NaN</td>\n",
       "      <td>NaN</td>\n",
       "      <td>NaN</td>\n",
       "      <td>0</td>\n",
       "      <td>6</td>\n",
       "      <td>2008</td>\n",
       "      <td>WD</td>\n",
       "      <td>Normal</td>\n",
       "      <td>147500</td>\n",
       "    </tr>\n",
       "  </tbody>\n",
       "</table>\n",
       "<p>1460 rows × 81 columns</p>\n",
       "</div>"
      ],
      "text/plain": [
       "        Id  MSSubClass MSZoning  LotFrontage  LotArea Street Alley LotShape  \\\n",
       "0        1          60       RL         65.0     8450   Pave   NaN      Reg   \n",
       "1        2          20       RL         80.0     9600   Pave   NaN      Reg   \n",
       "2        3          60       RL         68.0    11250   Pave   NaN      IR1   \n",
       "3        4          70       RL         60.0     9550   Pave   NaN      IR1   \n",
       "4        5          60       RL         84.0    14260   Pave   NaN      IR1   \n",
       "...    ...         ...      ...          ...      ...    ...   ...      ...   \n",
       "1455  1456          60       RL         62.0     7917   Pave   NaN      Reg   \n",
       "1456  1457          20       RL         85.0    13175   Pave   NaN      Reg   \n",
       "1457  1458          70       RL         66.0     9042   Pave   NaN      Reg   \n",
       "1458  1459          20       RL         68.0     9717   Pave   NaN      Reg   \n",
       "1459  1460          20       RL         75.0     9937   Pave   NaN      Reg   \n",
       "\n",
       "     LandContour Utilities  ... PoolArea PoolQC  Fence MiscFeature MiscVal  \\\n",
       "0            Lvl    AllPub  ...        0    NaN    NaN         NaN       0   \n",
       "1            Lvl    AllPub  ...        0    NaN    NaN         NaN       0   \n",
       "2            Lvl    AllPub  ...        0    NaN    NaN         NaN       0   \n",
       "3            Lvl    AllPub  ...        0    NaN    NaN         NaN       0   \n",
       "4            Lvl    AllPub  ...        0    NaN    NaN         NaN       0   \n",
       "...          ...       ...  ...      ...    ...    ...         ...     ...   \n",
       "1455         Lvl    AllPub  ...        0    NaN    NaN         NaN       0   \n",
       "1456         Lvl    AllPub  ...        0    NaN  MnPrv         NaN       0   \n",
       "1457         Lvl    AllPub  ...        0    NaN  GdPrv        Shed    2500   \n",
       "1458         Lvl    AllPub  ...        0    NaN    NaN         NaN       0   \n",
       "1459         Lvl    AllPub  ...        0    NaN    NaN         NaN       0   \n",
       "\n",
       "     MoSold YrSold  SaleType  SaleCondition  SalePrice  \n",
       "0         2   2008        WD         Normal     208500  \n",
       "1         5   2007        WD         Normal     181500  \n",
       "2         9   2008        WD         Normal     223500  \n",
       "3         2   2006        WD        Abnorml     140000  \n",
       "4        12   2008        WD         Normal     250000  \n",
       "...     ...    ...       ...            ...        ...  \n",
       "1455      8   2007        WD         Normal     175000  \n",
       "1456      2   2010        WD         Normal     210000  \n",
       "1457      5   2010        WD         Normal     266500  \n",
       "1458      4   2010        WD         Normal     142125  \n",
       "1459      6   2008        WD         Normal     147500  \n",
       "\n",
       "[1460 rows x 81 columns]"
      ]
     },
     "execution_count": 11,
     "metadata": {},
     "output_type": "execute_result"
    }
   ],
   "source": [
    "\n",
    "df"
   ]
  },
  {
   "cell_type": "code",
   "execution_count": 12,
   "id": "8c378589-4ed3-490f-88fc-2e7a4fd5696a",
   "metadata": {},
   "outputs": [
    {
     "data": {
      "text/html": [
       "<div>\n",
       "<style scoped>\n",
       "    .dataframe tbody tr th:only-of-type {\n",
       "        vertical-align: middle;\n",
       "    }\n",
       "\n",
       "    .dataframe tbody tr th {\n",
       "        vertical-align: top;\n",
       "    }\n",
       "\n",
       "    .dataframe thead th {\n",
       "        text-align: right;\n",
       "    }\n",
       "</style>\n",
       "<table border=\"1\" class=\"dataframe\">\n",
       "  <thead>\n",
       "    <tr style=\"text-align: right;\">\n",
       "      <th></th>\n",
       "      <th>Id</th>\n",
       "      <th>MSSubClass</th>\n",
       "      <th>LotFrontage</th>\n",
       "      <th>LotArea</th>\n",
       "      <th>OverallQual</th>\n",
       "      <th>OverallCond</th>\n",
       "      <th>YearBuilt</th>\n",
       "      <th>YearRemodAdd</th>\n",
       "      <th>MasVnrArea</th>\n",
       "      <th>BsmtFinSF1</th>\n",
       "      <th>...</th>\n",
       "      <th>WoodDeckSF</th>\n",
       "      <th>OpenPorchSF</th>\n",
       "      <th>EnclosedPorch</th>\n",
       "      <th>3SsnPorch</th>\n",
       "      <th>ScreenPorch</th>\n",
       "      <th>PoolArea</th>\n",
       "      <th>MiscVal</th>\n",
       "      <th>MoSold</th>\n",
       "      <th>YrSold</th>\n",
       "      <th>SalePrice</th>\n",
       "    </tr>\n",
       "  </thead>\n",
       "  <tbody>\n",
       "    <tr>\n",
       "      <th>count</th>\n",
       "      <td>1460.000000</td>\n",
       "      <td>1460.000000</td>\n",
       "      <td>1201.000000</td>\n",
       "      <td>1460.000000</td>\n",
       "      <td>1460.000000</td>\n",
       "      <td>1460.000000</td>\n",
       "      <td>1460.000000</td>\n",
       "      <td>1460.000000</td>\n",
       "      <td>1452.000000</td>\n",
       "      <td>1460.000000</td>\n",
       "      <td>...</td>\n",
       "      <td>1460.000000</td>\n",
       "      <td>1460.000000</td>\n",
       "      <td>1460.000000</td>\n",
       "      <td>1460.000000</td>\n",
       "      <td>1460.000000</td>\n",
       "      <td>1460.000000</td>\n",
       "      <td>1460.000000</td>\n",
       "      <td>1460.000000</td>\n",
       "      <td>1460.000000</td>\n",
       "      <td>1460.000000</td>\n",
       "    </tr>\n",
       "    <tr>\n",
       "      <th>mean</th>\n",
       "      <td>730.500000</td>\n",
       "      <td>56.897260</td>\n",
       "      <td>70.049958</td>\n",
       "      <td>10516.828082</td>\n",
       "      <td>6.099315</td>\n",
       "      <td>5.575342</td>\n",
       "      <td>1971.267808</td>\n",
       "      <td>1984.865753</td>\n",
       "      <td>103.685262</td>\n",
       "      <td>443.639726</td>\n",
       "      <td>...</td>\n",
       "      <td>94.244521</td>\n",
       "      <td>46.660274</td>\n",
       "      <td>21.954110</td>\n",
       "      <td>3.409589</td>\n",
       "      <td>15.060959</td>\n",
       "      <td>2.758904</td>\n",
       "      <td>43.489041</td>\n",
       "      <td>6.321918</td>\n",
       "      <td>2007.815753</td>\n",
       "      <td>180921.195890</td>\n",
       "    </tr>\n",
       "    <tr>\n",
       "      <th>std</th>\n",
       "      <td>421.610009</td>\n",
       "      <td>42.300571</td>\n",
       "      <td>24.284752</td>\n",
       "      <td>9981.264932</td>\n",
       "      <td>1.382997</td>\n",
       "      <td>1.112799</td>\n",
       "      <td>30.202904</td>\n",
       "      <td>20.645407</td>\n",
       "      <td>181.066207</td>\n",
       "      <td>456.098091</td>\n",
       "      <td>...</td>\n",
       "      <td>125.338794</td>\n",
       "      <td>66.256028</td>\n",
       "      <td>61.119149</td>\n",
       "      <td>29.317331</td>\n",
       "      <td>55.757415</td>\n",
       "      <td>40.177307</td>\n",
       "      <td>496.123024</td>\n",
       "      <td>2.703626</td>\n",
       "      <td>1.328095</td>\n",
       "      <td>79442.502883</td>\n",
       "    </tr>\n",
       "    <tr>\n",
       "      <th>min</th>\n",
       "      <td>1.000000</td>\n",
       "      <td>20.000000</td>\n",
       "      <td>21.000000</td>\n",
       "      <td>1300.000000</td>\n",
       "      <td>1.000000</td>\n",
       "      <td>1.000000</td>\n",
       "      <td>1872.000000</td>\n",
       "      <td>1950.000000</td>\n",
       "      <td>0.000000</td>\n",
       "      <td>0.000000</td>\n",
       "      <td>...</td>\n",
       "      <td>0.000000</td>\n",
       "      <td>0.000000</td>\n",
       "      <td>0.000000</td>\n",
       "      <td>0.000000</td>\n",
       "      <td>0.000000</td>\n",
       "      <td>0.000000</td>\n",
       "      <td>0.000000</td>\n",
       "      <td>1.000000</td>\n",
       "      <td>2006.000000</td>\n",
       "      <td>34900.000000</td>\n",
       "    </tr>\n",
       "    <tr>\n",
       "      <th>25%</th>\n",
       "      <td>365.750000</td>\n",
       "      <td>20.000000</td>\n",
       "      <td>59.000000</td>\n",
       "      <td>7553.500000</td>\n",
       "      <td>5.000000</td>\n",
       "      <td>5.000000</td>\n",
       "      <td>1954.000000</td>\n",
       "      <td>1967.000000</td>\n",
       "      <td>0.000000</td>\n",
       "      <td>0.000000</td>\n",
       "      <td>...</td>\n",
       "      <td>0.000000</td>\n",
       "      <td>0.000000</td>\n",
       "      <td>0.000000</td>\n",
       "      <td>0.000000</td>\n",
       "      <td>0.000000</td>\n",
       "      <td>0.000000</td>\n",
       "      <td>0.000000</td>\n",
       "      <td>5.000000</td>\n",
       "      <td>2007.000000</td>\n",
       "      <td>129975.000000</td>\n",
       "    </tr>\n",
       "    <tr>\n",
       "      <th>50%</th>\n",
       "      <td>730.500000</td>\n",
       "      <td>50.000000</td>\n",
       "      <td>69.000000</td>\n",
       "      <td>9478.500000</td>\n",
       "      <td>6.000000</td>\n",
       "      <td>5.000000</td>\n",
       "      <td>1973.000000</td>\n",
       "      <td>1994.000000</td>\n",
       "      <td>0.000000</td>\n",
       "      <td>383.500000</td>\n",
       "      <td>...</td>\n",
       "      <td>0.000000</td>\n",
       "      <td>25.000000</td>\n",
       "      <td>0.000000</td>\n",
       "      <td>0.000000</td>\n",
       "      <td>0.000000</td>\n",
       "      <td>0.000000</td>\n",
       "      <td>0.000000</td>\n",
       "      <td>6.000000</td>\n",
       "      <td>2008.000000</td>\n",
       "      <td>163000.000000</td>\n",
       "    </tr>\n",
       "    <tr>\n",
       "      <th>75%</th>\n",
       "      <td>1095.250000</td>\n",
       "      <td>70.000000</td>\n",
       "      <td>80.000000</td>\n",
       "      <td>11601.500000</td>\n",
       "      <td>7.000000</td>\n",
       "      <td>6.000000</td>\n",
       "      <td>2000.000000</td>\n",
       "      <td>2004.000000</td>\n",
       "      <td>166.000000</td>\n",
       "      <td>712.250000</td>\n",
       "      <td>...</td>\n",
       "      <td>168.000000</td>\n",
       "      <td>68.000000</td>\n",
       "      <td>0.000000</td>\n",
       "      <td>0.000000</td>\n",
       "      <td>0.000000</td>\n",
       "      <td>0.000000</td>\n",
       "      <td>0.000000</td>\n",
       "      <td>8.000000</td>\n",
       "      <td>2009.000000</td>\n",
       "      <td>214000.000000</td>\n",
       "    </tr>\n",
       "    <tr>\n",
       "      <th>max</th>\n",
       "      <td>1460.000000</td>\n",
       "      <td>190.000000</td>\n",
       "      <td>313.000000</td>\n",
       "      <td>215245.000000</td>\n",
       "      <td>10.000000</td>\n",
       "      <td>9.000000</td>\n",
       "      <td>2010.000000</td>\n",
       "      <td>2010.000000</td>\n",
       "      <td>1600.000000</td>\n",
       "      <td>5644.000000</td>\n",
       "      <td>...</td>\n",
       "      <td>857.000000</td>\n",
       "      <td>547.000000</td>\n",
       "      <td>552.000000</td>\n",
       "      <td>508.000000</td>\n",
       "      <td>480.000000</td>\n",
       "      <td>738.000000</td>\n",
       "      <td>15500.000000</td>\n",
       "      <td>12.000000</td>\n",
       "      <td>2010.000000</td>\n",
       "      <td>755000.000000</td>\n",
       "    </tr>\n",
       "  </tbody>\n",
       "</table>\n",
       "<p>8 rows × 38 columns</p>\n",
       "</div>"
      ],
      "text/plain": [
       "                Id   MSSubClass  LotFrontage        LotArea  OverallQual  \\\n",
       "count  1460.000000  1460.000000  1201.000000    1460.000000  1460.000000   \n",
       "mean    730.500000    56.897260    70.049958   10516.828082     6.099315   \n",
       "std     421.610009    42.300571    24.284752    9981.264932     1.382997   \n",
       "min       1.000000    20.000000    21.000000    1300.000000     1.000000   \n",
       "25%     365.750000    20.000000    59.000000    7553.500000     5.000000   \n",
       "50%     730.500000    50.000000    69.000000    9478.500000     6.000000   \n",
       "75%    1095.250000    70.000000    80.000000   11601.500000     7.000000   \n",
       "max    1460.000000   190.000000   313.000000  215245.000000    10.000000   \n",
       "\n",
       "       OverallCond    YearBuilt  YearRemodAdd   MasVnrArea   BsmtFinSF1  ...  \\\n",
       "count  1460.000000  1460.000000   1460.000000  1452.000000  1460.000000  ...   \n",
       "mean      5.575342  1971.267808   1984.865753   103.685262   443.639726  ...   \n",
       "std       1.112799    30.202904     20.645407   181.066207   456.098091  ...   \n",
       "min       1.000000  1872.000000   1950.000000     0.000000     0.000000  ...   \n",
       "25%       5.000000  1954.000000   1967.000000     0.000000     0.000000  ...   \n",
       "50%       5.000000  1973.000000   1994.000000     0.000000   383.500000  ...   \n",
       "75%       6.000000  2000.000000   2004.000000   166.000000   712.250000  ...   \n",
       "max       9.000000  2010.000000   2010.000000  1600.000000  5644.000000  ...   \n",
       "\n",
       "        WoodDeckSF  OpenPorchSF  EnclosedPorch    3SsnPorch  ScreenPorch  \\\n",
       "count  1460.000000  1460.000000    1460.000000  1460.000000  1460.000000   \n",
       "mean     94.244521    46.660274      21.954110     3.409589    15.060959   \n",
       "std     125.338794    66.256028      61.119149    29.317331    55.757415   \n",
       "min       0.000000     0.000000       0.000000     0.000000     0.000000   \n",
       "25%       0.000000     0.000000       0.000000     0.000000     0.000000   \n",
       "50%       0.000000    25.000000       0.000000     0.000000     0.000000   \n",
       "75%     168.000000    68.000000       0.000000     0.000000     0.000000   \n",
       "max     857.000000   547.000000     552.000000   508.000000   480.000000   \n",
       "\n",
       "          PoolArea       MiscVal       MoSold       YrSold      SalePrice  \n",
       "count  1460.000000   1460.000000  1460.000000  1460.000000    1460.000000  \n",
       "mean      2.758904     43.489041     6.321918  2007.815753  180921.195890  \n",
       "std      40.177307    496.123024     2.703626     1.328095   79442.502883  \n",
       "min       0.000000      0.000000     1.000000  2006.000000   34900.000000  \n",
       "25%       0.000000      0.000000     5.000000  2007.000000  129975.000000  \n",
       "50%       0.000000      0.000000     6.000000  2008.000000  163000.000000  \n",
       "75%       0.000000      0.000000     8.000000  2009.000000  214000.000000  \n",
       "max     738.000000  15500.000000    12.000000  2010.000000  755000.000000  \n",
       "\n",
       "[8 rows x 38 columns]"
      ]
     },
     "execution_count": 12,
     "metadata": {},
     "output_type": "execute_result"
    }
   ],
   "source": [
    "#통계치 확인\n",
    "df.describe()"
   ]
  },
  {
   "cell_type": "code",
   "execution_count": 13,
   "id": "87836805-e543-4ba6-88d1-8a892401198b",
   "metadata": {},
   "outputs": [
    {
     "name": "stdout",
     "output_type": "stream",
     "text": [
      "<class 'pandas.core.frame.DataFrame'>\n",
      "RangeIndex: 1460 entries, 0 to 1459\n",
      "Data columns (total 81 columns):\n",
      " #   Column         Non-Null Count  Dtype  \n",
      "---  ------         --------------  -----  \n",
      " 0   Id             1460 non-null   int64  \n",
      " 1   MSSubClass     1460 non-null   int64  \n",
      " 2   MSZoning       1460 non-null   object \n",
      " 3   LotFrontage    1201 non-null   float64\n",
      " 4   LotArea        1460 non-null   int64  \n",
      " 5   Street         1460 non-null   object \n",
      " 6   Alley          91 non-null     object \n",
      " 7   LotShape       1460 non-null   object \n",
      " 8   LandContour    1460 non-null   object \n",
      " 9   Utilities      1460 non-null   object \n",
      " 10  LotConfig      1460 non-null   object \n",
      " 11  LandSlope      1460 non-null   object \n",
      " 12  Neighborhood   1460 non-null   object \n",
      " 13  Condition1     1460 non-null   object \n",
      " 14  Condition2     1460 non-null   object \n",
      " 15  BldgType       1460 non-null   object \n",
      " 16  HouseStyle     1460 non-null   object \n",
      " 17  OverallQual    1460 non-null   int64  \n",
      " 18  OverallCond    1460 non-null   int64  \n",
      " 19  YearBuilt      1460 non-null   int64  \n",
      " 20  YearRemodAdd   1460 non-null   int64  \n",
      " 21  RoofStyle      1460 non-null   object \n",
      " 22  RoofMatl       1460 non-null   object \n",
      " 23  Exterior1st    1460 non-null   object \n",
      " 24  Exterior2nd    1460 non-null   object \n",
      " 25  MasVnrType     1452 non-null   object \n",
      " 26  MasVnrArea     1452 non-null   float64\n",
      " 27  ExterQual      1460 non-null   object \n",
      " 28  ExterCond      1460 non-null   object \n",
      " 29  Foundation     1460 non-null   object \n",
      " 30  BsmtQual       1423 non-null   object \n",
      " 31  BsmtCond       1423 non-null   object \n",
      " 32  BsmtExposure   1422 non-null   object \n",
      " 33  BsmtFinType1   1423 non-null   object \n",
      " 34  BsmtFinSF1     1460 non-null   int64  \n",
      " 35  BsmtFinType2   1422 non-null   object \n",
      " 36  BsmtFinSF2     1460 non-null   int64  \n",
      " 37  BsmtUnfSF      1460 non-null   int64  \n",
      " 38  TotalBsmtSF    1460 non-null   int64  \n",
      " 39  Heating        1460 non-null   object \n",
      " 40  HeatingQC      1460 non-null   object \n",
      " 41  CentralAir     1460 non-null   object \n",
      " 42  Electrical     1459 non-null   object \n",
      " 43  1stFlrSF       1460 non-null   int64  \n",
      " 44  2ndFlrSF       1460 non-null   int64  \n",
      " 45  LowQualFinSF   1460 non-null   int64  \n",
      " 46  GrLivArea      1460 non-null   int64  \n",
      " 47  BsmtFullBath   1460 non-null   int64  \n",
      " 48  BsmtHalfBath   1460 non-null   int64  \n",
      " 49  FullBath       1460 non-null   int64  \n",
      " 50  HalfBath       1460 non-null   int64  \n",
      " 51  BedroomAbvGr   1460 non-null   int64  \n",
      " 52  KitchenAbvGr   1460 non-null   int64  \n",
      " 53  KitchenQual    1460 non-null   object \n",
      " 54  TotRmsAbvGrd   1460 non-null   int64  \n",
      " 55  Functional     1460 non-null   object \n",
      " 56  Fireplaces     1460 non-null   int64  \n",
      " 57  FireplaceQu    770 non-null    object \n",
      " 58  GarageType     1379 non-null   object \n",
      " 59  GarageYrBlt    1379 non-null   float64\n",
      " 60  GarageFinish   1379 non-null   object \n",
      " 61  GarageCars     1460 non-null   int64  \n",
      " 62  GarageArea     1460 non-null   int64  \n",
      " 63  GarageQual     1379 non-null   object \n",
      " 64  GarageCond     1379 non-null   object \n",
      " 65  PavedDrive     1460 non-null   object \n",
      " 66  WoodDeckSF     1460 non-null   int64  \n",
      " 67  OpenPorchSF    1460 non-null   int64  \n",
      " 68  EnclosedPorch  1460 non-null   int64  \n",
      " 69  3SsnPorch      1460 non-null   int64  \n",
      " 70  ScreenPorch    1460 non-null   int64  \n",
      " 71  PoolArea       1460 non-null   int64  \n",
      " 72  PoolQC         7 non-null      object \n",
      " 73  Fence          281 non-null    object \n",
      " 74  MiscFeature    54 non-null     object \n",
      " 75  MiscVal        1460 non-null   int64  \n",
      " 76  MoSold         1460 non-null   int64  \n",
      " 77  YrSold         1460 non-null   int64  \n",
      " 78  SaleType       1460 non-null   object \n",
      " 79  SaleCondition  1460 non-null   object \n",
      " 80  SalePrice      1460 non-null   int64  \n",
      "dtypes: float64(3), int64(35), object(43)\n",
      "memory usage: 924.0+ KB\n"
     ]
    }
   ],
   "source": [
    "#결측치확인\n",
    "\n",
    "df.info()"
   ]
  },
  {
   "cell_type": "code",
   "execution_count": 14,
   "id": "db015520-f3c4-410b-a9c8-1aed016baa20",
   "metadata": {},
   "outputs": [
    {
     "data": {
      "text/plain": [
       "PoolQC          1453\n",
       "MiscFeature     1406\n",
       "Alley           1369\n",
       "Fence           1179\n",
       "FireplaceQu      690\n",
       "LotFrontage      259\n",
       "GarageType        81\n",
       "GarageYrBlt       81\n",
       "GarageFinish      81\n",
       "GarageQual        81\n",
       "GarageCond        81\n",
       "BsmtExposure      38\n",
       "BsmtFinType2      38\n",
       "BsmtFinType1      37\n",
       "BsmtCond          37\n",
       "BsmtQual          37\n",
       "MasVnrArea         8\n",
       "MasVnrType         8\n",
       "Electrical         1\n",
       "dtype: int64"
      ]
     },
     "execution_count": 14,
     "metadata": {},
     "output_type": "execute_result"
    }
   ],
   "source": [
    "#결측치 확인\n",
    "\n",
    "isnull_df = df.isnull().sum()\n",
    "isnull_df[isnull_df > 0].sort_values(ascending=False)"
   ]
  },
  {
   "cell_type": "code",
   "execution_count": 15,
   "id": "84606011",
   "metadata": {},
   "outputs": [
    {
     "data": {
      "text/plain": [
       "<seaborn.axisgrid.FacetGrid at 0x1a97cdec520>"
      ]
     },
     "execution_count": 15,
     "metadata": {},
     "output_type": "execute_result"
    },
    {
     "data": {
      "image/png": "[encoded data removed]",
      "text/plain": [
       "<Figure size 360x360 with 1 Axes>"
      ]
     },
     "metadata": {
      "needs_background": "light"
     },
     "output_type": "display_data"
    }
   ],
   "source": [
    "#y 분포 확인\n",
    "\n",
    "# df['SalePrice'].hist()\n",
    "sns.displot(df['SalePrice'])"
   ]
  },
  {
   "cell_type": "code",
   "execution_count": 16,
   "id": "475fdeaa-71ec-430a-bdbb-6dd3812cfb6c",
   "metadata": {},
   "outputs": [
    {
     "data": {
      "image/png": "[encoded data removed]",
      "text/plain": [
       "<Figure size 360x360 with 1 Axes>"
      ]
     },
     "metadata": {
      "needs_background": "light"
     },
     "output_type": "display_data"
    }
   ],
   "source": [
    "#로그로 변환해주기\n",
    "\n",
    "sns.displot(np.log1p(df['SalePrice']))\n",
    "df['SalePrice'] = np.log1p(df['SalePrice'])"
   ]
  },
  {
   "cell_type": "code",
   "execution_count": 17,
   "id": "cc31da05-b46e-469e-8784-d4dea39a7d96",
   "metadata": {},
   "outputs": [
    {
     "data": {
      "text/plain": [
       "(1460, 81)"
      ]
     },
     "execution_count": 17,
     "metadata": {},
     "output_type": "execute_result"
    }
   ],
   "source": [
    "df.shape"
   ]
  },
  {
   "cell_type": "code",
   "execution_count": 18,
   "id": "742a9141-0ade-461b-b995-aa64c6e3c6e0",
   "metadata": {},
   "outputs": [],
   "source": [
    "#결측값 처리\n",
    "\n",
    "#id와 결측치가 많은 특성 제거하기\n",
    "\n",
    "df.drop( ['Id', 'PoolQC', 'MiscFeature', 'Alley', 'Fence', 'FireplaceQu'], axis = 1, inplace=True)\n"
   ]
  },
  {
   "cell_type": "code",
   "execution_count": 19,
   "id": "53d7946f-7428-4e82-acd8-e65eff1f78ff",
   "metadata": {},
   "outputs": [
    {
     "data": {
      "text/plain": [
       "(1460, 75)"
      ]
     },
     "execution_count": 19,
     "metadata": {},
     "output_type": "execute_result"
    }
   ],
   "source": [
    "df.shape"
   ]
  },
  {
   "cell_type": "markdown",
   "id": "2f59aff4",
   "metadata": {},
   "source": [
    "## 평균값으로 결측치 채우기"
   ]
  },
  {
   "cell_type": "code",
   "execution_count": 20,
   "id": "277508df-34ea-4eba-a7db-e456d6aa73fc",
   "metadata": {},
   "outputs": [],
   "source": [
    "df.fillna( df.mean(), inplace=True)"
   ]
  },
  {
   "cell_type": "markdown",
   "id": "4716dcab",
   "metadata": {},
   "source": [
    "## 원핫인코딩 해주기"
   ]
  },
  {
   "cell_type": "code",
   "execution_count": 21,
   "id": "88d64689-c340-453d-be9f-5370b4d4ae04",
   "metadata": {},
   "outputs": [
    {
     "data": {
      "text/plain": [
       "((1460, 75), (1460, 271))"
      ]
     },
     "execution_count": 21,
     "metadata": {},
     "output_type": "execute_result"
    }
   ],
   "source": [
    "df_oh = pd.get_dummies(df)\n",
    "df.shape, df_oh.shape"
   ]
  },
  {
   "cell_type": "markdown",
   "id": "417ee6ce",
   "metadata": {},
   "source": [
    "## 선형회귀"
   ]
  },
  {
   "cell_type": "code",
   "execution_count": 22,
   "id": "e4b6f354-802d-452a-bdf5-34dc84480b38",
   "metadata": {},
   "outputs": [],
   "source": [
    "def get_rmse(model):\n",
    "    pred = model.predict(X_test)\n",
    "    mse = mean_squared_error(y_test , pred)\n",
    "    rmse = np.sqrt(mse)\n",
    "    print('{0} 로그 변환된 RMSE: {1}'.format(model.__class__.__name__,np.round(rmse, 3)))\n",
    "    return rmse\n",
    "\n",
    "def get_rmses(models):\n",
    "    rmses = [ ]\n",
    "    for model in models:\n",
    "        rmse = get_rmse(model)\n",
    "        rmses.append(rmse)\n",
    "    return rmses"
   ]
  },
  {
   "cell_type": "code",
   "execution_count": 23,
   "id": "0fcf6832-c890-4e89-bd61-cf8471190748",
   "metadata": {},
   "outputs": [
    {
     "name": "stdout",
     "output_type": "stream",
     "text": [
      "RandomForestRegressor 로그 변환된 RMSE: 0.148\n",
      "LinearRegression 로그 변환된 RMSE: 0.13\n",
      "Ridge 로그 변환된 RMSE: 0.127\n",
      "Lasso 로그 변환된 RMSE: 0.192\n"
     ]
    },
    {
     "data": {
      "text/plain": [
       "[0.14754364331576422,\n",
       " 0.12953641682925313,\n",
       " 0.12742500815858115,\n",
       " 0.19230526756524885]"
      ]
     },
     "execution_count": 23,
     "metadata": {},
     "output_type": "execute_result"
    }
   ],
   "source": [
    "from sklearn.linear_model import LinearRegression, Ridge, Lasso\n",
    "from sklearn.model_selection import train_test_split\n",
    "from sklearn.metrics import mean_squared_error\n",
    "from sklearn.ensemble import RandomForestRegressor\n",
    "\n",
    "X = df_oh.drop('SalePrice', axis=1)\n",
    "y = df_oh['SalePrice']\n",
    "\n",
    "X_train, X_test, y_train, y_test = train_test_split(X, y, \n",
    "                                                    test_size=0.2, \n",
    "                                                    random_state=42)\n",
    "\n",
    "tree_reg = RandomForestRegressor(random_state=0).fit(X_train, y_train)\n",
    "lr_reg = LinearRegression().fit(X_train, y_train)\n",
    "ridge_reg = Ridge().fit(X_train, y_train)\n",
    "lasso_reg = Lasso().fit(X_train, y_train)\n",
    "\n",
    "get_rmses( [tree_reg, lr_reg, ridge_reg, lasso_reg] )"
   ]
  },
  {
   "cell_type": "code",
   "execution_count": 24,
   "id": "1abad07a-c300-4f90-adce-bd8fd2c210ec",
   "metadata": {},
   "outputs": [],
   "source": [
    "from sklearn.model_selection import cross_val_score\n",
    "\n",
    "# 분할하지 않고 전체 데이터로 cross_val_score( ) 수행\n",
    "# 모델별 CV RMSE값과 평균 RMSE 출력\n",
    "def get_avg_rmse_cv(models):\n",
    "    pass\n"
   ]
  },
  {
   "cell_type": "markdown",
   "id": "108b131c",
   "metadata": {},
   "source": [
    "# 모델의 RMSE값 을 확인\n",
    "\n",
    "* 랜덤포레스트, 선형회귀, 릿지, 라쏘 모델을 반복문을 이용해서 손실함수값을 확인한다.\n",
    "* 이때 cross_val_score 을 이용해서 **교차 검증** 을 수행한다.\n",
    "\n"
   ]
  },
  {
   "cell_type": "code",
   "execution_count": 25,
   "id": "6f1c1813-1619-4a91-b4a8-237e472421db",
   "metadata": {},
   "outputs": [
    {
     "name": "stdout",
     "output_type": "stream",
     "text": [
      "RandomForestRegressor CV RMSE list: [0.139 0.157 0.147 0.13  0.153]\n",
      "RandomForestRegressor CV RMSE AVG: 0.145\n",
      "\n",
      "LinearRegression CV RMSE list: [0.135 0.165 0.168 0.111 0.198]\n",
      "LinearRegression CV RMSE AVG: 0.155\n",
      "\n",
      "Ridge CV RMSE list: [0.117 0.154 0.142 0.117 0.189]\n",
      "Ridge CV RMSE AVG: 0.144\n",
      "\n",
      "Lasso CV RMSE list: [0.161 0.204 0.177 0.181 0.265]\n",
      "Lasso CV RMSE AVG: 0.198\n",
      "\n"
     ]
    }
   ],
   "source": [
    "# lr_reg, ridge_reg, lasso_reg 모델의 CV RMSE값 출력\n",
    "models = [tree_reg, lr_reg, ridge_reg, lasso_reg]\n",
    "for model in models:\n",
    "  mse_list = -1 * cross_val_score(model, X, y, \n",
    "                                  scoring='neg_mean_squared_error', cv=5)\n",
    "  rmse_list = np.sqrt(mse_list)\n",
    "  rmse_avg = rmse_list.mean()\n",
    "  print(f'{model.__class__.__name__} CV RMSE list: {np.round(rmse_list, 3)}')\n",
    "  print(f'{model.__class__.__name__} CV RMSE AVG: {rmse_avg:.3f}')\n",
    "  print()"
   ]
  },
  {
   "cell_type": "markdown",
   "id": "8b9cd314",
   "metadata": {},
   "source": [
    "## 하이퍼파라미터를 튜닝해야 하기 때문에 사용하는 sklearn의 모듈 \n",
    "\n",
    "* BaseEstimator 는 get_params 및 set_params 의 구현을 제공해주는 모듈\n",
    "\n",
    "* GridSearchCV란???\n",
    "\n",
    "  다음의 블로그의 내용을 참고하면\n",
    "  > 참고 : https://rudolf-2434.tistory.com/10\n",
    "   \n",
    "   최적의 하이퍼파라미터를 찾기위해 일일이 학습을 해야하는 수고를 덜어주는 모듈이라고 한다.\n",
    "  "
   ]
  },
  {
   "cell_type": "code",
   "execution_count": 26,
   "id": "f7c50ae1",
   "metadata": {},
   "outputs": [],
   "source": [
    "from sklearn.base import BaseEstimator\n",
    "from sklearn.model_selection import GridSearchCV\n",
    "\n",
    "\n",
    "def print_best_params(model, params):\n",
    "    grid_search = GridSearchCV(model, param_grid = params, scoring = 'neg_mean_squared_error', cv = 5)\n",
    "    \n",
    "    grid_search.fit(X,y)\n",
    "    rmse = np.sqrt(-1 * grid_search.best_score_)\n",
    "    print(f'{model.__class__.__name__}CV RMSE의 평균 값{rmse:.4f}',\n",
    "         f'alpha값: {grid_search.best_params_}')\n",
    "    #포맷팅으로 들어가는 함수들을 잘 봐둬야 겠다. \n",
    "    \n",
    "    return grid_search.best_estimator_"
   ]
  },
  {
   "cell_type": "markdown",
   "id": "a0e0c337",
   "metadata": {},
   "source": [
    "### ridge 와 lasso에서 중요한 영향을 미치는 변수는 alpha값\n",
    "\n",
    "* 이 alpha 값들중 가장 좋은 것을 찾기위한 과정을 진행함\n",
    "* 교차검증을 통해서 최적의 alpha값을 찾고 이 값을 이용."
   ]
  },
  {
   "cell_type": "code",
   "execution_count": 27,
   "id": "64ad89e9",
   "metadata": {},
   "outputs": [
    {
     "name": "stdout",
     "output_type": "stream",
     "text": [
      "RidgeCV RMSE의 평균 값0.1418 alpha값: {'alpha': 12}\n",
      "Ridge(alpha=12)\n",
      "LassoCV RMSE의 평균 값0.1420 alpha값: {'alpha': 0.001}\n",
      "Lasso(alpha=0.001)\n"
     ]
    }
   ],
   "source": [
    "param_ridge = { 'alpha':[0.05,0.1,1,5,8,10,12,15,20]}\n",
    "param_lasso = { 'alpha':[0.001,0.005,0.008,0.05,0.03,0.1,0.5,1,5,10]}\n",
    "\n",
    "print(print_best_params(ridge_reg,param_ridge))\n",
    "print(print_best_params(lasso_reg,param_lasso))\n",
    "\n",
    "\n",
    "\n"
   ]
  },
  {
   "cell_type": "markdown",
   "id": "7ef008ca",
   "metadata": {},
   "source": [
    "### 로그 변환된 RMSE를 출력"
   ]
  },
  {
   "cell_type": "code",
   "execution_count": 28,
   "id": "66d23931",
   "metadata": {},
   "outputs": [
    {
     "name": "stdout",
     "output_type": "stream",
     "text": [
      "LinearRegression 로그 변환된 RMSE: 0.13\n",
      "Ridge 로그 변환된 RMSE: 0.136\n",
      "Lasso 로그 변환된 RMSE: 0.138\n"
     ]
    },
    {
     "data": {
      "text/plain": [
       "[0.12953641682925313, 0.13567682744280898, 0.13806118868552913]"
      ]
     },
     "execution_count": 28,
     "metadata": {},
     "output_type": "execute_result"
    }
   ],
   "source": [
    "lr_reg = LinearRegression().fit(X_train,y_train)\n",
    "ridge_reg = Ridge(alpha=12).fit(X_train,y_train)\n",
    "lasso_reg = Lasso(alpha=0.001).fit(X_train,y_train)\n",
    "\n",
    "get_rmses([lr_reg, ridge_reg, lasso_reg])"
   ]
  },
  {
   "cell_type": "markdown",
   "id": "90069a5a",
   "metadata": {},
   "source": [
    "## 왜도 (Skewness)\n",
    "* 분포에서 비대칭을 나타내는 척도이다. \n",
    "    정규분포는 좌우가 대칭이므로 왜도가 0\n",
    "    \n",
    " *Positive Skewness는 오른쪽 꼬리가 왼쪽보다 더 길 때를 의미한다. 평균(Mean)과 중위수(Median)가 Mode보다 크다.\n",
    "\n",
    " *Negative Skewness 왼쪽 꼬리가 오른쪽보다 더 길 때를 의미한다. 평균(Mean)과 중위수(Median)가 Mode보다 작다.\n",
    " \n",
    "  > 참고: https://dining-developer.tistory.com/17"
   ]
  },
  {
   "cell_type": "code",
   "execution_count": 29,
   "id": "146dbba9",
   "metadata": {},
   "outputs": [
    {
     "data": {
      "text/plain": [
       "MiscVal          24.451640\n",
       "PoolArea         14.813135\n",
       "LotArea          12.195142\n",
       "3SsnPorch        10.293752\n",
       "LowQualFinSF      9.002080\n",
       "KitchenAbvGr      4.483784\n",
       "BsmtFinSF2        4.250888\n",
       "ScreenPorch       4.117977\n",
       "BsmtHalfBath      4.099186\n",
       "EnclosedPorch     3.086696\n",
       "MasVnrArea        2.673661\n",
       "LotFrontage       2.382499\n",
       "OpenPorchSF       2.361912\n",
       "BsmtFinSF1        1.683771\n",
       "WoodDeckSF        1.539792\n",
       "TotalBsmtSF       1.522688\n",
       "MSSubClass        1.406210\n",
       "1stFlrSF          1.375342\n",
       "GrLivArea         1.365156\n",
       "dtype: float64"
      ]
     },
     "execution_count": 29,
     "metadata": {},
     "output_type": "execute_result"
    }
   ],
   "source": [
    "from scipy.stats import skew\n",
    "\n",
    "f_index = df.dtypes[df.dtypes != 'object'].index  #object형태가 아닌 인덱스\n",
    "\n",
    "skew_features = df[f_index].apply(lambda x: skew(x))  #왜도 값으로 변환\n",
    "skew_features_top = skew_features[skew_features > 1] # 왜도 값은 1을 넘어서는 순간 부터 어느 한쪽으로 치우침\n",
    "\n",
    "skew_features_top.sort_values(ascending=False)"
   ]
  },
  {
   "cell_type": "code",
   "execution_count": 30,
   "id": "47e53528",
   "metadata": {},
   "outputs": [
    {
     "name": "stdout",
     "output_type": "stream",
     "text": [
      "0    1710\n",
      "1    1262\n",
      "2    1786\n",
      "3    1717\n",
      "4    2198\n",
      "Name: GrLivArea, dtype: int64\n",
      "count    1460.000000\n",
      "mean     1515.463699\n",
      "std       525.480383\n",
      "min       334.000000\n",
      "25%      1129.500000\n",
      "50%      1464.000000\n",
      "75%      1776.750000\n",
      "max      5642.000000\n",
      "Name: GrLivArea, dtype: float64\n"
     ]
    }
   ],
   "source": [
    "print(df['GrLivArea'].head())\n",
    "print(df['GrLivArea'].describe())"
   ]
  },
  {
   "cell_type": "markdown",
   "id": "965e6dbc",
   "metadata": {},
   "source": [
    "## GrLivArea?\n",
    " ### 캐글데이터설명에서 찾아본 결과: Above grade (ground) living area square feet -> 지상(지상) 거실 면적 평방 피트\n",
    "   * 넓이에 따라서 어떤 분포를 이루고 있는지 살펴보면 다음과 같다\n",
    " \n"
   ]
  },
  {
   "cell_type": "code",
   "execution_count": 31,
   "id": "678b85b9",
   "metadata": {},
   "outputs": [],
   "source": [
    "import matplotlib\n",
    "import matplotlib.font_manager as fm\n",
    "font_name = fm.FontProperties(fname = 'C:/Windows/Fonts/malgun.ttf').get_name()\n",
    "matplotlib.rc('font', family = font_name)\n",
    "matplotlib.rcParams['axes.unicode_minus'] = False"
   ]
  },
  {
   "cell_type": "code",
   "execution_count": 32,
   "id": "d684c391",
   "metadata": {},
   "outputs": [
    {
     "data": {
      "image/png": "[encoded data removed]",
      "text/plain": [
       "<Figure size 432x288 with 1 Axes>"
      ]
     },
     "metadata": {
      "needs_background": "light"
     },
     "output_type": "display_data"
    },
    {
     "name": "stdout",
     "output_type": "stream",
     "text": [
      "*빈도 array : [107. 554. 535. 189.  57.  12.   2.   2.   1.   1.]\n",
      "*구간 array : [ 334.   864.8 1395.6 1926.4 2457.2 2988.  3518.8 4049.6 4580.4 5111.2\n",
      " 5642. ]\n"
     ]
    }
   ],
   "source": [
    "plt.title(\"Histogram\", fontsize=15)\n",
    "frq, bins, fig = plt.hist(df['GrLivArea'], bins=10, alpha=.8, color='darkgreen')\n",
    "plt.ylabel(\"빈도\", fontsize=13)\n",
    "plt.xlabel(\"넓이\", fontsize=13)\n",
    "plt.grid()\n",
    "plt.show()\n",
    "print(\"*빈도 array :\", frq)\n",
    "print(\"*구간 array :\", bins)"
   ]
  },
  {
   "cell_type": "code",
   "execution_count": 33,
   "id": "8b7b4b9d",
   "metadata": {},
   "outputs": [
    {
     "data": {
      "text/html": [
       "<div>\n",
       "<style scoped>\n",
       "    .dataframe tbody tr th:only-of-type {\n",
       "        vertical-align: middle;\n",
       "    }\n",
       "\n",
       "    .dataframe tbody tr th {\n",
       "        vertical-align: top;\n",
       "    }\n",
       "\n",
       "    .dataframe thead th {\n",
       "        text-align: right;\n",
       "    }\n",
       "</style>\n",
       "<table border=\"1\" class=\"dataframe\">\n",
       "  <thead>\n",
       "    <tr style=\"text-align: right;\">\n",
       "      <th></th>\n",
       "      <th>MSSubClass</th>\n",
       "      <th>LotFrontage</th>\n",
       "      <th>LotArea</th>\n",
       "      <th>MasVnrArea</th>\n",
       "      <th>BsmtFinSF1</th>\n",
       "      <th>BsmtFinSF2</th>\n",
       "      <th>TotalBsmtSF</th>\n",
       "      <th>1stFlrSF</th>\n",
       "      <th>LowQualFinSF</th>\n",
       "      <th>GrLivArea</th>\n",
       "      <th>BsmtHalfBath</th>\n",
       "      <th>KitchenAbvGr</th>\n",
       "      <th>WoodDeckSF</th>\n",
       "      <th>OpenPorchSF</th>\n",
       "      <th>EnclosedPorch</th>\n",
       "      <th>3SsnPorch</th>\n",
       "      <th>ScreenPorch</th>\n",
       "      <th>PoolArea</th>\n",
       "      <th>MiscVal</th>\n",
       "    </tr>\n",
       "  </thead>\n",
       "  <tbody>\n",
       "    <tr>\n",
       "      <th>0</th>\n",
       "      <td>60</td>\n",
       "      <td>65.0</td>\n",
       "      <td>8450</td>\n",
       "      <td>196.0</td>\n",
       "      <td>706</td>\n",
       "      <td>0</td>\n",
       "      <td>856</td>\n",
       "      <td>856</td>\n",
       "      <td>0</td>\n",
       "      <td>1710</td>\n",
       "      <td>0</td>\n",
       "      <td>1</td>\n",
       "      <td>0</td>\n",
       "      <td>61</td>\n",
       "      <td>0</td>\n",
       "      <td>0</td>\n",
       "      <td>0</td>\n",
       "      <td>0</td>\n",
       "      <td>0</td>\n",
       "    </tr>\n",
       "    <tr>\n",
       "      <th>1</th>\n",
       "      <td>20</td>\n",
       "      <td>80.0</td>\n",
       "      <td>9600</td>\n",
       "      <td>0.0</td>\n",
       "      <td>978</td>\n",
       "      <td>0</td>\n",
       "      <td>1262</td>\n",
       "      <td>1262</td>\n",
       "      <td>0</td>\n",
       "      <td>1262</td>\n",
       "      <td>1</td>\n",
       "      <td>1</td>\n",
       "      <td>298</td>\n",
       "      <td>0</td>\n",
       "      <td>0</td>\n",
       "      <td>0</td>\n",
       "      <td>0</td>\n",
       "      <td>0</td>\n",
       "      <td>0</td>\n",
       "    </tr>\n",
       "    <tr>\n",
       "      <th>2</th>\n",
       "      <td>60</td>\n",
       "      <td>68.0</td>\n",
       "      <td>11250</td>\n",
       "      <td>162.0</td>\n",
       "      <td>486</td>\n",
       "      <td>0</td>\n",
       "      <td>920</td>\n",
       "      <td>920</td>\n",
       "      <td>0</td>\n",
       "      <td>1786</td>\n",
       "      <td>0</td>\n",
       "      <td>1</td>\n",
       "      <td>0</td>\n",
       "      <td>42</td>\n",
       "      <td>0</td>\n",
       "      <td>0</td>\n",
       "      <td>0</td>\n",
       "      <td>0</td>\n",
       "      <td>0</td>\n",
       "    </tr>\n",
       "    <tr>\n",
       "      <th>3</th>\n",
       "      <td>70</td>\n",
       "      <td>60.0</td>\n",
       "      <td>9550</td>\n",
       "      <td>0.0</td>\n",
       "      <td>216</td>\n",
       "      <td>0</td>\n",
       "      <td>756</td>\n",
       "      <td>961</td>\n",
       "      <td>0</td>\n",
       "      <td>1717</td>\n",
       "      <td>0</td>\n",
       "      <td>1</td>\n",
       "      <td>0</td>\n",
       "      <td>35</td>\n",
       "      <td>272</td>\n",
       "      <td>0</td>\n",
       "      <td>0</td>\n",
       "      <td>0</td>\n",
       "      <td>0</td>\n",
       "    </tr>\n",
       "    <tr>\n",
       "      <th>4</th>\n",
       "      <td>60</td>\n",
       "      <td>84.0</td>\n",
       "      <td>14260</td>\n",
       "      <td>350.0</td>\n",
       "      <td>655</td>\n",
       "      <td>0</td>\n",
       "      <td>1145</td>\n",
       "      <td>1145</td>\n",
       "      <td>0</td>\n",
       "      <td>2198</td>\n",
       "      <td>0</td>\n",
       "      <td>1</td>\n",
       "      <td>192</td>\n",
       "      <td>84</td>\n",
       "      <td>0</td>\n",
       "      <td>0</td>\n",
       "      <td>0</td>\n",
       "      <td>0</td>\n",
       "      <td>0</td>\n",
       "    </tr>\n",
       "    <tr>\n",
       "      <th>...</th>\n",
       "      <td>...</td>\n",
       "      <td>...</td>\n",
       "      <td>...</td>\n",
       "      <td>...</td>\n",
       "      <td>...</td>\n",
       "      <td>...</td>\n",
       "      <td>...</td>\n",
       "      <td>...</td>\n",
       "      <td>...</td>\n",
       "      <td>...</td>\n",
       "      <td>...</td>\n",
       "      <td>...</td>\n",
       "      <td>...</td>\n",
       "      <td>...</td>\n",
       "      <td>...</td>\n",
       "      <td>...</td>\n",
       "      <td>...</td>\n",
       "      <td>...</td>\n",
       "      <td>...</td>\n",
       "    </tr>\n",
       "    <tr>\n",
       "      <th>1455</th>\n",
       "      <td>60</td>\n",
       "      <td>62.0</td>\n",
       "      <td>7917</td>\n",
       "      <td>0.0</td>\n",
       "      <td>0</td>\n",
       "      <td>0</td>\n",
       "      <td>953</td>\n",
       "      <td>953</td>\n",
       "      <td>0</td>\n",
       "      <td>1647</td>\n",
       "      <td>0</td>\n",
       "      <td>1</td>\n",
       "      <td>0</td>\n",
       "      <td>40</td>\n",
       "      <td>0</td>\n",
       "      <td>0</td>\n",
       "      <td>0</td>\n",
       "      <td>0</td>\n",
       "      <td>0</td>\n",
       "    </tr>\n",
       "    <tr>\n",
       "      <th>1456</th>\n",
       "      <td>20</td>\n",
       "      <td>85.0</td>\n",
       "      <td>13175</td>\n",
       "      <td>119.0</td>\n",
       "      <td>790</td>\n",
       "      <td>163</td>\n",
       "      <td>1542</td>\n",
       "      <td>2073</td>\n",
       "      <td>0</td>\n",
       "      <td>2073</td>\n",
       "      <td>0</td>\n",
       "      <td>1</td>\n",
       "      <td>349</td>\n",
       "      <td>0</td>\n",
       "      <td>0</td>\n",
       "      <td>0</td>\n",
       "      <td>0</td>\n",
       "      <td>0</td>\n",
       "      <td>0</td>\n",
       "    </tr>\n",
       "    <tr>\n",
       "      <th>1457</th>\n",
       "      <td>70</td>\n",
       "      <td>66.0</td>\n",
       "      <td>9042</td>\n",
       "      <td>0.0</td>\n",
       "      <td>275</td>\n",
       "      <td>0</td>\n",
       "      <td>1152</td>\n",
       "      <td>1188</td>\n",
       "      <td>0</td>\n",
       "      <td>2340</td>\n",
       "      <td>0</td>\n",
       "      <td>1</td>\n",
       "      <td>0</td>\n",
       "      <td>60</td>\n",
       "      <td>0</td>\n",
       "      <td>0</td>\n",
       "      <td>0</td>\n",
       "      <td>0</td>\n",
       "      <td>2500</td>\n",
       "    </tr>\n",
       "    <tr>\n",
       "      <th>1458</th>\n",
       "      <td>20</td>\n",
       "      <td>68.0</td>\n",
       "      <td>9717</td>\n",
       "      <td>0.0</td>\n",
       "      <td>49</td>\n",
       "      <td>1029</td>\n",
       "      <td>1078</td>\n",
       "      <td>1078</td>\n",
       "      <td>0</td>\n",
       "      <td>1078</td>\n",
       "      <td>0</td>\n",
       "      <td>1</td>\n",
       "      <td>366</td>\n",
       "      <td>0</td>\n",
       "      <td>112</td>\n",
       "      <td>0</td>\n",
       "      <td>0</td>\n",
       "      <td>0</td>\n",
       "      <td>0</td>\n",
       "    </tr>\n",
       "    <tr>\n",
       "      <th>1459</th>\n",
       "      <td>20</td>\n",
       "      <td>75.0</td>\n",
       "      <td>9937</td>\n",
       "      <td>0.0</td>\n",
       "      <td>830</td>\n",
       "      <td>290</td>\n",
       "      <td>1256</td>\n",
       "      <td>1256</td>\n",
       "      <td>0</td>\n",
       "      <td>1256</td>\n",
       "      <td>0</td>\n",
       "      <td>1</td>\n",
       "      <td>736</td>\n",
       "      <td>68</td>\n",
       "      <td>0</td>\n",
       "      <td>0</td>\n",
       "      <td>0</td>\n",
       "      <td>0</td>\n",
       "      <td>0</td>\n",
       "    </tr>\n",
       "  </tbody>\n",
       "</table>\n",
       "<p>1460 rows × 19 columns</p>\n",
       "</div>"
      ],
      "text/plain": [
       "      MSSubClass  LotFrontage  LotArea  MasVnrArea  BsmtFinSF1  BsmtFinSF2  \\\n",
       "0             60         65.0     8450       196.0         706           0   \n",
       "1             20         80.0     9600         0.0         978           0   \n",
       "2             60         68.0    11250       162.0         486           0   \n",
       "3             70         60.0     9550         0.0         216           0   \n",
       "4             60         84.0    14260       350.0         655           0   \n",
       "...          ...          ...      ...         ...         ...         ...   \n",
       "1455          60         62.0     7917         0.0           0           0   \n",
       "1456          20         85.0    13175       119.0         790         163   \n",
       "1457          70         66.0     9042         0.0         275           0   \n",
       "1458          20         68.0     9717         0.0          49        1029   \n",
       "1459          20         75.0     9937         0.0         830         290   \n",
       "\n",
       "      TotalBsmtSF  1stFlrSF  LowQualFinSF  GrLivArea  BsmtHalfBath  \\\n",
       "0             856       856             0       1710             0   \n",
       "1            1262      1262             0       1262             1   \n",
       "2             920       920             0       1786             0   \n",
       "3             756       961             0       1717             0   \n",
       "4            1145      1145             0       2198             0   \n",
       "...           ...       ...           ...        ...           ...   \n",
       "1455          953       953             0       1647             0   \n",
       "1456         1542      2073             0       2073             0   \n",
       "1457         1152      1188             0       2340             0   \n",
       "1458         1078      1078             0       1078             0   \n",
       "1459         1256      1256             0       1256             0   \n",
       "\n",
       "      KitchenAbvGr  WoodDeckSF  OpenPorchSF  EnclosedPorch  3SsnPorch  \\\n",
       "0                1           0           61              0          0   \n",
       "1                1         298            0              0          0   \n",
       "2                1           0           42              0          0   \n",
       "3                1           0           35            272          0   \n",
       "4                1         192           84              0          0   \n",
       "...            ...         ...          ...            ...        ...   \n",
       "1455             1           0           40              0          0   \n",
       "1456             1         349            0              0          0   \n",
       "1457             1           0           60              0          0   \n",
       "1458             1         366            0            112          0   \n",
       "1459             1         736           68              0          0   \n",
       "\n",
       "      ScreenPorch  PoolArea  MiscVal  \n",
       "0               0         0        0  \n",
       "1               0         0        0  \n",
       "2               0         0        0  \n",
       "3               0         0        0  \n",
       "4               0         0        0  \n",
       "...           ...       ...      ...  \n",
       "1455            0         0        0  \n",
       "1456            0         0        0  \n",
       "1457            0         0     2500  \n",
       "1458            0         0        0  \n",
       "1459            0         0        0  \n",
       "\n",
       "[1460 rows x 19 columns]"
      ]
     },
     "execution_count": 33,
     "metadata": {},
     "output_type": "execute_result"
    }
   ],
   "source": [
    "df[skew_features_top.index]"
   ]
  },
  {
   "cell_type": "markdown",
   "id": "4a8cd2fd",
   "metadata": {},
   "source": [
    "### 로그변환으로 수치 조정\n",
    "\n",
    " * 로그변환시 np.log1p 를 하는게 좋은 이유에 대해서 좋은 정보를 찾았다.(아래블로그 참고)\n",
    "    > https://suppppppp.github.io/posts/Why-Series-MDM-1/"
   ]
  },
  {
   "cell_type": "code",
   "execution_count": 34,
   "id": "c3d913e8",
   "metadata": {},
   "outputs": [],
   "source": [
    "df[skew_features_top.index] = np.log1p(df[skew_features_top.index])"
   ]
  },
  {
   "cell_type": "code",
   "execution_count": 35,
   "id": "1b54c636",
   "metadata": {},
   "outputs": [
    {
     "data": {
      "image/png": "[encoded data removed]",
      "text/plain": [
       "<Figure size 432x288 with 1 Axes>"
      ]
     },
     "metadata": {
      "needs_background": "light"
     },
     "output_type": "display_data"
    },
    {
     "name": "stdout",
     "output_type": "stream",
     "text": [
      "*빈도 array : [  2.   2.  32. 214. 383. 498. 248.  68.   9.   4.]\n",
      "*구간 array : [5.81413053 6.09653459 6.37893865 6.66134271 6.94374677 7.22615082\n",
      " 7.50855488 7.79095894 8.073363   8.35576706 8.63817112]\n"
     ]
    }
   ],
   "source": [
    "plt.title(\"Histogram\", fontsize=15)\n",
    "frq, bins, fig = plt.hist(df['GrLivArea'], bins=10, alpha=.8, color='darkgreen')\n",
    "plt.ylabel(\"빈도\", fontsize=13)\n",
    "plt.xlabel(\"넓이\", fontsize=13)\n",
    "plt.grid()\n",
    "plt.show()\n",
    "print(\"*빈도 array :\", frq)\n",
    "print(\"*구간 array :\", bins)"
   ]
  },
  {
   "cell_type": "markdown",
   "id": "e9f3b5e0",
   "metadata": {},
   "source": [
    "## 로그변환 후, 다시 원-핫인코딩 해주기\n",
    "\n"
   ]
  },
  {
   "cell_type": "code",
   "execution_count": 36,
   "id": "22943881",
   "metadata": {},
   "outputs": [
    {
     "name": "stdout",
     "output_type": "stream",
     "text": [
      "기존: (1460, 75) 원핫인코딩 후: (1460, 271)\n",
      "RidgeCV RMSE의 평균 값0.1275 alpha값: {'alpha': 10}\n",
      "LassoCV RMSE의 평균 값0.1252 alpha값: {'alpha': 0.001}\n"
     ]
    }
   ],
   "source": [
    "df_oh = pd.get_dummies(df)\n",
    "print('기존:',df.shape,'원핫인코딩 후:', df_oh.shape)\n",
    "\n",
    "X = df_oh.drop('SalePrice', axis = 1)\n",
    "y = df_oh['SalePrice']\n",
    "\n",
    "X_train, X_test, y_train, y_test = train_test_split(X,y,test_size=0.2,random_state=42)\n",
    "\n",
    "param_ridge = {'alpha':[0.05, 0.1, 1, 5, 8, 10, 12, 15, 20]}\n",
    "param_lasso = {'alpha':[0.001, 0.005, 0.008, 0.05, 0.03, 0.1, 0.5, 1, 5, 10]}\n",
    "ridge_reg = print_best_params(Ridge(), param_ridge)\n",
    "lasso_reg = print_best_params(Lasso(), param_lasso)"
   ]
  },
  {
   "cell_type": "markdown",
   "id": "34186d0e",
   "metadata": {},
   "source": [
    "## 이상치를 제거 해야한다\n",
    " * 원래 데이터를 다시 보기"
   ]
  },
  {
   "cell_type": "code",
   "execution_count": 37,
   "id": "38028885",
   "metadata": {},
   "outputs": [
    {
     "data": {
      "image/png": "[encoded data removed]",
      "text/plain": [
       "<Figure size 432x288 with 1 Axes>"
      ]
     },
     "metadata": {
      "needs_background": "light"
     },
     "output_type": "display_data"
    }
   ],
   "source": [
    "df_origin = pd.read_csv('train.csv')\n",
    "plt.scatter(df_origin['GrLivArea'], df_origin['SalePrice'])\n",
    "plt.xlabel('GrLivArea')\n",
    "plt.ylabel('SalePrice')\n",
    "plt.title('넒이에 따른 가격 분포')\n",
    "plt.show()"
   ]
  },
  {
   "cell_type": "markdown",
   "id": "a3ad59a1",
   "metadata": {},
   "source": [
    "* 이상치를 보니"
   ]
  },
  {
   "cell_type": "code",
   "execution_count": 38,
   "id": "e56701c1",
   "metadata": {},
   "outputs": [
    {
     "data": {
      "text/html": [
       "<div>\n",
       "<style scoped>\n",
       "    .dataframe tbody tr th:only-of-type {\n",
       "        vertical-align: middle;\n",
       "    }\n",
       "\n",
       "    .dataframe tbody tr th {\n",
       "        vertical-align: top;\n",
       "    }\n",
       "\n",
       "    .dataframe thead th {\n",
       "        text-align: right;\n",
       "    }\n",
       "</style>\n",
       "<table border=\"1\" class=\"dataframe\">\n",
       "  <thead>\n",
       "    <tr style=\"text-align: right;\">\n",
       "      <th></th>\n",
       "      <th>MSSubClass</th>\n",
       "      <th>LotFrontage</th>\n",
       "      <th>LotArea</th>\n",
       "      <th>OverallQual</th>\n",
       "      <th>OverallCond</th>\n",
       "      <th>YearBuilt</th>\n",
       "      <th>YearRemodAdd</th>\n",
       "      <th>MasVnrArea</th>\n",
       "      <th>BsmtFinSF1</th>\n",
       "      <th>BsmtFinSF2</th>\n",
       "      <th>...</th>\n",
       "      <th>SaleType_ConLw</th>\n",
       "      <th>SaleType_New</th>\n",
       "      <th>SaleType_Oth</th>\n",
       "      <th>SaleType_WD</th>\n",
       "      <th>SaleCondition_Abnorml</th>\n",
       "      <th>SaleCondition_AdjLand</th>\n",
       "      <th>SaleCondition_Alloca</th>\n",
       "      <th>SaleCondition_Family</th>\n",
       "      <th>SaleCondition_Normal</th>\n",
       "      <th>SaleCondition_Partial</th>\n",
       "    </tr>\n",
       "  </thead>\n",
       "  <tbody>\n",
       "    <tr>\n",
       "      <th>523</th>\n",
       "      <td>4.110874</td>\n",
       "      <td>4.875197</td>\n",
       "      <td>10.599007</td>\n",
       "      <td>10</td>\n",
       "      <td>5</td>\n",
       "      <td>2007</td>\n",
       "      <td>2008</td>\n",
       "      <td>6.637258</td>\n",
       "      <td>7.723562</td>\n",
       "      <td>0.0</td>\n",
       "      <td>...</td>\n",
       "      <td>0</td>\n",
       "      <td>1</td>\n",
       "      <td>0</td>\n",
       "      <td>0</td>\n",
       "      <td>0</td>\n",
       "      <td>0</td>\n",
       "      <td>0</td>\n",
       "      <td>0</td>\n",
       "      <td>0</td>\n",
       "      <td>1</td>\n",
       "    </tr>\n",
       "    <tr>\n",
       "      <th>1298</th>\n",
       "      <td>4.110874</td>\n",
       "      <td>5.749393</td>\n",
       "      <td>11.064887</td>\n",
       "      <td>10</td>\n",
       "      <td>5</td>\n",
       "      <td>2008</td>\n",
       "      <td>2008</td>\n",
       "      <td>6.680855</td>\n",
       "      <td>8.638525</td>\n",
       "      <td>0.0</td>\n",
       "      <td>...</td>\n",
       "      <td>0</td>\n",
       "      <td>1</td>\n",
       "      <td>0</td>\n",
       "      <td>0</td>\n",
       "      <td>0</td>\n",
       "      <td>0</td>\n",
       "      <td>0</td>\n",
       "      <td>0</td>\n",
       "      <td>0</td>\n",
       "      <td>1</td>\n",
       "    </tr>\n",
       "  </tbody>\n",
       "</table>\n",
       "<p>2 rows × 271 columns</p>\n",
       "</div>"
      ],
      "text/plain": [
       "      MSSubClass  LotFrontage    LotArea  OverallQual  OverallCond  YearBuilt  \\\n",
       "523     4.110874     4.875197  10.599007           10            5       2007   \n",
       "1298    4.110874     5.749393  11.064887           10            5       2008   \n",
       "\n",
       "      YearRemodAdd  MasVnrArea  BsmtFinSF1  BsmtFinSF2  ...  SaleType_ConLw  \\\n",
       "523           2008    6.637258    7.723562         0.0  ...               0   \n",
       "1298          2008    6.680855    8.638525         0.0  ...               0   \n",
       "\n",
       "      SaleType_New  SaleType_Oth  SaleType_WD  SaleCondition_Abnorml  \\\n",
       "523              1             0            0                      0   \n",
       "1298             1             0            0                      0   \n",
       "\n",
       "      SaleCondition_AdjLand  SaleCondition_Alloca  SaleCondition_Family  \\\n",
       "523                       0                     0                     0   \n",
       "1298                      0                     0                     0   \n",
       "\n",
       "      SaleCondition_Normal  SaleCondition_Partial  \n",
       "523                      0                      1  \n",
       "1298                     0                      1  \n",
       "\n",
       "[2 rows x 271 columns]"
      ]
     },
     "execution_count": 38,
     "metadata": {},
     "output_type": "execute_result"
    }
   ],
   "source": [
    "axis_x = df_oh['GrLivArea'] > np.log1p(4000)\n",
    "axis_y = df_oh['SalePrice'] < np.log1p(500000)\n",
    "\n",
    "df_oh[axis_x & axis_y]"
   ]
  },
  {
   "cell_type": "markdown",
   "id": "eba6c5a4",
   "metadata": {},
   "source": [
    "* 이상치를 변수에 담아준다"
   ]
  },
  {
   "cell_type": "code",
   "execution_count": 39,
   "id": "29c2c031",
   "metadata": {},
   "outputs": [
    {
     "name": "stdout",
     "output_type": "stream",
     "text": [
      "Int64Index([523, 1298], dtype='int64')\n"
     ]
    }
   ],
   "source": [
    "outlier_index =df_oh[axis_x & axis_y].index\n",
    "print(outlier_index)"
   ]
  },
  {
   "cell_type": "code",
   "execution_count": 40,
   "id": "11c7e804",
   "metadata": {},
   "outputs": [
    {
     "name": "stdout",
     "output_type": "stream",
     "text": [
      "원핫인코딩화한 DataFrame : (1460, 271)\n",
      "이상치 삭제 후 shape : (1458, 271)\n"
     ]
    }
   ],
   "source": [
    "print(\"원핫인코딩화한 DataFrame :\", df_oh.shape)\n",
    "\n",
    "\n",
    "df_oh.drop(outlier_index, axis=0, inplace=True)\n",
    "print(\"이상치 삭제 후 shape :\", df_oh.shape)\n",
    "\n"
   ]
  },
  {
   "cell_type": "markdown",
   "id": "44c68571",
   "metadata": {},
   "source": [
    "## 이상치 제거 후 모델의 RMSE, alpha 값 확인"
   ]
  },
  {
   "cell_type": "code",
   "execution_count": 41,
   "id": "86957964",
   "metadata": {},
   "outputs": [
    {
     "name": "stdout",
     "output_type": "stream",
     "text": [
      "RidgeCV RMSE의 평균 값0.1125 alpha값: {'alpha': 8}\n",
      "LassoCV RMSE의 평균 값0.1122 alpha값: {'alpha': 0.001}\n"
     ]
    }
   ],
   "source": [
    "X = df_oh.drop('SalePrice', axis=1)\n",
    "y = df_oh['SalePrice']\n",
    "\n",
    "X_train, X_test, y_train, y_test = train_test_split(X, y, \n",
    "                                                    test_size=0.2, \n",
    "                                                    random_state=42)\n",
    "\n",
    "param_ridge = { 'alpha':[0.05, 0.1, 1, 5, 8, 10, 12, 15, 20] }\n",
    "param_lasso = { 'alpha':[0.001, 0.005, 0.008, 0.05, 0.03, 0.1, 0.5, 1, 5, 10] }\n",
    "ridge_reg = print_best_params(Ridge(), param_ridge)\n",
    "lasso_reg = print_best_params(Lasso(), param_lasso)"
   ]
  },
  {
   "cell_type": "code",
   "execution_count": 42,
   "id": "782f82a7",
   "metadata": {},
   "outputs": [
    {
     "name": "stdout",
     "output_type": "stream",
     "text": [
      "Ridge 로그 변환된 RMSE: 0.094\n",
      "Lasso 로그 변환된 RMSE: 0.103\n"
     ]
    },
    {
     "data": {
      "text/plain": [
       "[0.09425371121432129, 0.1030371341487339]"
      ]
     },
     "execution_count": 42,
     "metadata": {},
     "output_type": "execute_result"
    }
   ],
   "source": [
    "get_rmses( [ridge_reg, lasso_reg] )"
   ]
  },
  {
   "cell_type": "code",
   "execution_count": 43,
   "id": "108a9d2e",
   "metadata": {},
   "outputs": [
    {
     "data": {
      "text/plain": [
       "0.09656728001509855"
      ]
     },
     "execution_count": 43,
     "metadata": {},
     "output_type": "execute_result"
    }
   ],
   "source": [
    "pred_ridge = ridge_reg.predict(X_test)\n",
    "pred_lasso = lasso_reg.predict(X_test)\n",
    "\n",
    "pred = (0.6 * pred_ridge) + (0.4 * pred_lasso)\n",
    "rmse = np.sqrt( mean_squared_error(y_test, pred) )\n",
    "rmse"
   ]
  },
  {
   "cell_type": "markdown",
   "id": "a3eda5bd",
   "metadata": {},
   "source": [
    "# 부스팅기법 사용"
   ]
  },
  {
   "cell_type": "code",
   "execution_count": 44,
   "id": "431fa64c",
   "metadata": {},
   "outputs": [
    {
     "name": "stdout",
     "output_type": "stream",
     "text": [
      "Requirement already satisfied: xgboost in c:\\users\\hongr\\anaconda3\\envs\\test\\lib\\site-packages (1.4.2)\n",
      "Requirement already satisfied: scipy in c:\\users\\hongr\\anaconda3\\envs\\test\\lib\\site-packages (from xgboost) (1.6.2)\n",
      "Requirement already satisfied: numpy in c:\\users\\hongr\\anaconda3\\envs\\test\\lib\\site-packages (from xgboost) (1.20.3)\n"
     ]
    }
   ],
   "source": [
    "# from xgboost import XGBRegressor\n",
    "!pip install xgboost\n"
   ]
  },
  {
   "cell_type": "code",
   "execution_count": 45,
   "id": "d326521f",
   "metadata": {},
   "outputs": [
    {
     "name": "stdout",
     "output_type": "stream",
     "text": [
      "[23:27:48] WARNING: C:/Users/Administrator/workspace/xgboost-win64_release_1.4.0/src/objective/regression_obj.cu:171: reg:linear is now deprecated in favor of reg:squarederror.\n",
      "(1166, 270) (1166,)\n",
      "(292, 270) (292,)\n",
      "(1459, 80)\n",
      "(292,)\n"
     ]
    },
    {
     "data": {
      "text/plain": [
       "(0.9819761587947017, 0.9021576143816962)"
      ]
     },
     "execution_count": 45,
     "metadata": {},
     "output_type": "execute_result"
    }
   ],
   "source": [
    "import xgboost as xgb\n",
    "\n",
    "\n",
    "# 모델 선언\n",
    "xgb_model = xgb.XGBRegressor(learning_rate=0.1,max_depth=5,n_estimators=100,objective=\"reg:linear\", seed=1000)\n",
    "\n",
    "# 모델 훈련\n",
    "# xgb_model.fit(X_train, y_train, eval_metric='rmse',verbose = True, eval_set = [(X_test, y_test)])\n",
    "xgb_model.fit(X_train, y_train)\n",
    "# 모델 예측\n",
    "xgb_pred = xgb_model.predict(X_test) \n",
    "# xgb_pred = xgb_model.predict(test)\n",
    "# y_pred\n",
    "\n",
    "\n",
    "print(X_train.shape,y_train.shape)\n",
    "print(X_test.shape,y_test.shape)\n",
    "print(test.shape)\n",
    "print(xgb_pred.shape)\n",
    "\n",
    "#모델 점수\n",
    "\n",
    "xgb_model.score(X_train,y_train),xgb_model.score(X_test,y_test)"
   ]
  },
  {
   "cell_type": "markdown",
   "id": "1b94f9e3",
   "metadata": {},
   "source": [
    "# 1차_제출"
   ]
  },
  {
   "cell_type": "markdown",
   "id": "71e1909d",
   "metadata": {},
   "source": [
    "* xgb만 이용해서 우선 제출"
   ]
  },
  {
   "cell_type": "code",
   "execution_count": 46,
   "id": "e9fd7167",
   "metadata": {},
   "outputs": [
    {
     "data": {
      "text/plain": [
       "0       1461\n",
       "1       1462\n",
       "2       1463\n",
       "3       1464\n",
       "4       1465\n",
       "        ... \n",
       "1454    2915\n",
       "1455    2916\n",
       "1456    2917\n",
       "1457    2918\n",
       "1458    2919\n",
       "Name: Id, Length: 1459, dtype: int64"
      ]
     },
     "execution_count": 46,
     "metadata": {},
     "output_type": "execute_result"
    }
   ],
   "source": [
    "test['Id']\n",
    "\n",
    "# sub = pd.DataFrame()\n",
    "# sub['Id'] = test_ID\n",
    "# sub['SalePrice'] = xgb_pred\n",
    "# sub.to_csv('submission.csv',index=False)"
   ]
  },
  {
   "cell_type": "code",
   "execution_count": 47,
   "id": "0271d0f2",
   "metadata": {},
   "outputs": [
    {
     "ename": "ValueError",
     "evalue": "Length of values (292) does not match length of index (1459)",
     "output_type": "error",
     "traceback": [
      "\u001b[1;31m---------------------------------------------------------------------------\u001b[0m",
      "\u001b[1;31mValueError\u001b[0m                                Traceback (most recent call last)",
      "\u001b[1;32m<ipython-input-47-7acf60c0145b>\u001b[0m in \u001b[0;36m<module>\u001b[1;34m\u001b[0m\n\u001b[0;32m      3\u001b[0m \u001b[0msub_xgb\u001b[0m \u001b[1;33m=\u001b[0m \u001b[0mpd\u001b[0m\u001b[1;33m.\u001b[0m\u001b[0mDataFrame\u001b[0m\u001b[1;33m(\u001b[0m\u001b[1;33m)\u001b[0m\u001b[1;33m\u001b[0m\u001b[1;33m\u001b[0m\u001b[0m\n\u001b[0;32m      4\u001b[0m \u001b[0msub_xgb\u001b[0m\u001b[1;33m[\u001b[0m\u001b[1;34m'Id'\u001b[0m\u001b[1;33m]\u001b[0m \u001b[1;33m=\u001b[0m \u001b[0mtest\u001b[0m\u001b[1;33m[\u001b[0m\u001b[1;34m'Id'\u001b[0m\u001b[1;33m]\u001b[0m\u001b[1;33m\u001b[0m\u001b[1;33m\u001b[0m\u001b[0m\n\u001b[1;32m----> 5\u001b[1;33m \u001b[0msub_xgb\u001b[0m\u001b[1;33m[\u001b[0m\u001b[1;34m'SalePrice'\u001b[0m\u001b[1;33m]\u001b[0m \u001b[1;33m=\u001b[0m \u001b[0mxgb_pred\u001b[0m\u001b[1;33m\u001b[0m\u001b[1;33m\u001b[0m\u001b[0m\n\u001b[0m\u001b[0;32m      6\u001b[0m \u001b[1;33m\u001b[0m\u001b[0m\n",
      "\u001b[1;32m~\\anaconda3\\envs\\test\\lib\\site-packages\\pandas\\core\\frame.py\u001b[0m in \u001b[0;36m__setitem__\u001b[1;34m(self, key, value)\u001b[0m\n\u001b[0;32m   3605\u001b[0m         \u001b[1;32melse\u001b[0m\u001b[1;33m:\u001b[0m\u001b[1;33m\u001b[0m\u001b[1;33m\u001b[0m\u001b[0m\n\u001b[0;32m   3606\u001b[0m             \u001b[1;31m# set column\u001b[0m\u001b[1;33m\u001b[0m\u001b[1;33m\u001b[0m\u001b[1;33m\u001b[0m\u001b[0m\n\u001b[1;32m-> 3607\u001b[1;33m             \u001b[0mself\u001b[0m\u001b[1;33m.\u001b[0m\u001b[0m_set_item\u001b[0m\u001b[1;33m(\u001b[0m\u001b[0mkey\u001b[0m\u001b[1;33m,\u001b[0m \u001b[0mvalue\u001b[0m\u001b[1;33m)\u001b[0m\u001b[1;33m\u001b[0m\u001b[1;33m\u001b[0m\u001b[0m\n\u001b[0m\u001b[0;32m   3608\u001b[0m \u001b[1;33m\u001b[0m\u001b[0m\n\u001b[0;32m   3609\u001b[0m     \u001b[1;32mdef\u001b[0m \u001b[0m_setitem_slice\u001b[0m\u001b[1;33m(\u001b[0m\u001b[0mself\u001b[0m\u001b[1;33m,\u001b[0m \u001b[0mkey\u001b[0m\u001b[1;33m:\u001b[0m \u001b[0mslice\u001b[0m\u001b[1;33m,\u001b[0m \u001b[0mvalue\u001b[0m\u001b[1;33m)\u001b[0m\u001b[1;33m:\u001b[0m\u001b[1;33m\u001b[0m\u001b[1;33m\u001b[0m\u001b[0m\n",
      "\u001b[1;32m~\\anaconda3\\envs\\test\\lib\\site-packages\\pandas\\core\\frame.py\u001b[0m in \u001b[0;36m_set_item\u001b[1;34m(self, key, value)\u001b[0m\n\u001b[0;32m   3777\u001b[0m         \u001b[0mensure\u001b[0m \u001b[0mhomogeneity\u001b[0m\u001b[1;33m.\u001b[0m\u001b[1;33m\u001b[0m\u001b[1;33m\u001b[0m\u001b[0m\n\u001b[0;32m   3778\u001b[0m         \"\"\"\n\u001b[1;32m-> 3779\u001b[1;33m         \u001b[0mvalue\u001b[0m \u001b[1;33m=\u001b[0m \u001b[0mself\u001b[0m\u001b[1;33m.\u001b[0m\u001b[0m_sanitize_column\u001b[0m\u001b[1;33m(\u001b[0m\u001b[0mvalue\u001b[0m\u001b[1;33m)\u001b[0m\u001b[1;33m\u001b[0m\u001b[1;33m\u001b[0m\u001b[0m\n\u001b[0m\u001b[0;32m   3780\u001b[0m \u001b[1;33m\u001b[0m\u001b[0m\n\u001b[0;32m   3781\u001b[0m         if (\n",
      "\u001b[1;32m~\\anaconda3\\envs\\test\\lib\\site-packages\\pandas\\core\\frame.py\u001b[0m in \u001b[0;36m_sanitize_column\u001b[1;34m(self, value)\u001b[0m\n\u001b[0;32m   4502\u001b[0m \u001b[1;33m\u001b[0m\u001b[0m\n\u001b[0;32m   4503\u001b[0m         \u001b[1;32mif\u001b[0m \u001b[0mis_list_like\u001b[0m\u001b[1;33m(\u001b[0m\u001b[0mvalue\u001b[0m\u001b[1;33m)\u001b[0m\u001b[1;33m:\u001b[0m\u001b[1;33m\u001b[0m\u001b[1;33m\u001b[0m\u001b[0m\n\u001b[1;32m-> 4504\u001b[1;33m             \u001b[0mcom\u001b[0m\u001b[1;33m.\u001b[0m\u001b[0mrequire_length_match\u001b[0m\u001b[1;33m(\u001b[0m\u001b[0mvalue\u001b[0m\u001b[1;33m,\u001b[0m \u001b[0mself\u001b[0m\u001b[1;33m.\u001b[0m\u001b[0mindex\u001b[0m\u001b[1;33m)\u001b[0m\u001b[1;33m\u001b[0m\u001b[1;33m\u001b[0m\u001b[0m\n\u001b[0m\u001b[0;32m   4505\u001b[0m         \u001b[1;32mreturn\u001b[0m \u001b[0msanitize_array\u001b[0m\u001b[1;33m(\u001b[0m\u001b[0mvalue\u001b[0m\u001b[1;33m,\u001b[0m \u001b[0mself\u001b[0m\u001b[1;33m.\u001b[0m\u001b[0mindex\u001b[0m\u001b[1;33m,\u001b[0m \u001b[0mcopy\u001b[0m\u001b[1;33m=\u001b[0m\u001b[1;32mTrue\u001b[0m\u001b[1;33m,\u001b[0m \u001b[0mallow_2d\u001b[0m\u001b[1;33m=\u001b[0m\u001b[1;32mTrue\u001b[0m\u001b[1;33m)\u001b[0m\u001b[1;33m\u001b[0m\u001b[1;33m\u001b[0m\u001b[0m\n\u001b[0;32m   4506\u001b[0m \u001b[1;33m\u001b[0m\u001b[0m\n",
      "\u001b[1;32m~\\anaconda3\\envs\\test\\lib\\site-packages\\pandas\\core\\common.py\u001b[0m in \u001b[0;36mrequire_length_match\u001b[1;34m(data, index)\u001b[0m\n\u001b[0;32m    529\u001b[0m     \"\"\"\n\u001b[0;32m    530\u001b[0m     \u001b[1;32mif\u001b[0m \u001b[0mlen\u001b[0m\u001b[1;33m(\u001b[0m\u001b[0mdata\u001b[0m\u001b[1;33m)\u001b[0m \u001b[1;33m!=\u001b[0m \u001b[0mlen\u001b[0m\u001b[1;33m(\u001b[0m\u001b[0mindex\u001b[0m\u001b[1;33m)\u001b[0m\u001b[1;33m:\u001b[0m\u001b[1;33m\u001b[0m\u001b[1;33m\u001b[0m\u001b[0m\n\u001b[1;32m--> 531\u001b[1;33m         raise ValueError(\n\u001b[0m\u001b[0;32m    532\u001b[0m             \u001b[1;34m\"Length of values \"\u001b[0m\u001b[1;33m\u001b[0m\u001b[1;33m\u001b[0m\u001b[0m\n\u001b[0;32m    533\u001b[0m             \u001b[1;34mf\"({len(data)}) \"\u001b[0m\u001b[1;33m\u001b[0m\u001b[1;33m\u001b[0m\u001b[0m\n",
      "\u001b[1;31mValueError\u001b[0m: Length of values (292) does not match length of index (1459)"
     ]
    }
   ],
   "source": [
    "xgb_pred = xgb_model.predict(X_test) \n",
    "\n",
    "sub_xgb = pd.DataFrame()\n",
    "sub_xgb['Id'] = test['Id']\n",
    "sub_xgb['SalePrice'] = xgb_pred\n",
    "\n"
   ]
  },
  {
   "cell_type": "code",
   "execution_count": null,
   "id": "12a3e641",
   "metadata": {},
   "outputs": [],
   "source": [
    "test.shape"
   ]
  },
  {
   "cell_type": "markdown",
   "id": "2f288e06",
   "metadata": {},
   "source": [
    "# 다양한 모델 사용하기\n",
    "-lightgbm import 안됨"
   ]
  },
  {
   "cell_type": "code",
   "execution_count": 48,
   "id": "21519e43",
   "metadata": {},
   "outputs": [
    {
     "ename": "ModuleNotFoundError",
     "evalue": "No module named 'lightgbm'",
     "output_type": "error",
     "traceback": [
      "\u001b[1;31m---------------------------------------------------------------------------\u001b[0m",
      "\u001b[1;31mModuleNotFoundError\u001b[0m                       Traceback (most recent call last)",
      "\u001b[1;32m<ipython-input-48-9c9eac67ebc6>\u001b[0m in \u001b[0;36m<module>\u001b[1;34m\u001b[0m\n\u001b[0;32m      8\u001b[0m \u001b[1;32mfrom\u001b[0m \u001b[0msklearn\u001b[0m\u001b[1;33m.\u001b[0m\u001b[0mmetrics\u001b[0m \u001b[1;32mimport\u001b[0m \u001b[0mmean_squared_error\u001b[0m\u001b[1;33m\u001b[0m\u001b[1;33m\u001b[0m\u001b[0m\n\u001b[0;32m      9\u001b[0m \u001b[1;32mimport\u001b[0m \u001b[0mxgboost\u001b[0m \u001b[1;32mas\u001b[0m \u001b[0mxgb\u001b[0m\u001b[1;33m\u001b[0m\u001b[1;33m\u001b[0m\u001b[0m\n\u001b[1;32m---> 10\u001b[1;33m \u001b[1;32mimport\u001b[0m \u001b[0mlightgbm\u001b[0m \u001b[1;32mas\u001b[0m \u001b[0mlgb\u001b[0m\u001b[1;33m\u001b[0m\u001b[1;33m\u001b[0m\u001b[0m\n\u001b[0m",
      "\u001b[1;31mModuleNotFoundError\u001b[0m: No module named 'lightgbm'"
     ]
    }
   ],
   "source": [
    "from sklearn.linear_model import ElasticNet, Lasso,  BayesianRidge, LassoLarsIC\n",
    "from sklearn.ensemble import RandomForestRegressor,  GradientBoostingRegressor\n",
    "from sklearn.kernel_ridge import KernelRidge\n",
    "from sklearn.pipeline import make_pipeline\n",
    "from sklearn.preprocessing import RobustScaler\n",
    "from sklearn.base import BaseEstimator, TransformerMixin, RegressorMixin, clone\n",
    "from sklearn.model_selection import KFold, cross_val_score, train_test_split\n",
    "from sklearn.metrics import mean_squared_error\n",
    "import xgboost as xgb\n",
    "import lightgbm as lgb"
   ]
  },
  {
   "cell_type": "code",
   "execution_count": null,
   "id": "38644ae7",
   "metadata": {},
   "outputs": [],
   "source": []
  }
 ],
 "metadata": {
  "kernelspec": {
   "display_name": "Python 3",
   "language": "python",
   "name": "python3"
  },
  "language_info": {
   "codemirror_mode": {
    "name": "ipython",
    "version": 3
   },
   "file_extension": ".py",
   "mimetype": "text/x-python",
   "name": "python",
   "nbconvert_exporter": "python",
   "pygments_lexer": "ipython3",
   "version": "3.9.6"
  }
 },
 "nbformat": 4,
 "nbformat_minor": 5
}
